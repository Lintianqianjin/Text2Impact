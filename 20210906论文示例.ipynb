{
 "cells": [
  {
   "cell_type": "code",
   "execution_count": 1,
   "metadata": {},
   "outputs": [],
   "source": [
    "import pandas as pd\n",
    "import os\n",
    "from collections import Counter, defaultdict\n",
    "import json\n",
    "import pandas as pd\n",
    "pd.options.mode.chained_assignment = None\n",
    "from tqdm import tqdm\n",
    "import numpy as np\n",
    "import regex as re\n",
    "import matplotlib\n",
    "import matplotlib.pyplot as plt\n",
    "from collections import Counter\n",
    "from sklearn.ensemble import RandomForestClassifier\n",
    "from sklearn.model_selection import cross_validate\n",
    "import pandas as pd\n",
    "\n",
    "from sklearn.metrics.pairwise import cosine_similarity, paired_distances\n",
    "import numpy as np\n",
    "np.random.seed(0)\n",
    "\n",
    "from tqdm import tqdm\n",
    "import random\n",
    "\n",
    "# libraries & dataset\n",
    "import seaborn as sns\n",
    "import matplotlib.pyplot as plt\n",
    "# set a grey background (use sns.set_theme() if seaborn version 0.11.0 or above) \n",
    "sns.set_theme(style=\"white\", palette=\"pastel\")\n",
    "import scipy\n",
    "import json\n",
    "\n",
    "from scipy import sparse\n",
    "\n",
    "import time\n",
    "import gc\n",
    "\n",
    "from sklearn.manifold import TSNE"
   ]
  },
  {
   "cell_type": "markdown",
   "metadata": {},
   "source": [
    "### 读取高被引论文"
   ]
  },
  {
   "cell_type": "code",
   "execution_count": 2,
   "metadata": {},
   "outputs": [],
   "source": [
    "data_dir = '2021-07-19'"
   ]
  },
  {
   "cell_type": "code",
   "execution_count": 3,
   "metadata": {},
   "outputs": [],
   "source": [
    "# 高被引论文\n",
    "top_cited_papers_dict = {}\n",
    "for file in os.listdir('scibert编码文章/top_cited'):\n",
    "    if file.endswith(f'_{data_dir}.tsv'):\n",
    "        month = file.split('.')[0].split('_')[-2]\n",
    "        df = pd.read_csv(os.path.join('scibert编码文章/top_cited',file),sep='\\t')\n",
    "        top_cited_papers_dict[str(month)] = df"
   ]
  },
  {
   "cell_type": "code",
   "execution_count": 6,
   "metadata": {},
   "outputs": [
    {
     "data": {
      "text/html": [
       "<div>\n",
       "<style scoped>\n",
       "    .dataframe tbody tr th:only-of-type {\n",
       "        vertical-align: middle;\n",
       "    }\n",
       "\n",
       "    .dataframe tbody tr th {\n",
       "        vertical-align: top;\n",
       "    }\n",
       "\n",
       "    .dataframe thead th {\n",
       "        text-align: right;\n",
       "    }\n",
       "</style>\n",
       "<table border=\"1\" class=\"dataframe\">\n",
       "  <thead>\n",
       "    <tr style=\"text-align: right;\">\n",
       "      <th></th>\n",
       "      <th>cited_paper</th>\n",
       "      <th>uid</th>\n",
       "      <th>count</th>\n",
       "    </tr>\n",
       "  </thead>\n",
       "  <tbody>\n",
       "    <tr>\n",
       "      <th>0</th>\n",
       "      <td>Clinical features of patients infected with 20...</td>\n",
       "      <td>m2lq1qnp</td>\n",
       "      <td>117.0</td>\n",
       "    </tr>\n",
       "    <tr>\n",
       "      <th>1</th>\n",
       "      <td>Epidemiological and clinical characteristics o...</td>\n",
       "      <td>cxw5nv7d</td>\n",
       "      <td>67.0</td>\n",
       "    </tr>\n",
       "    <tr>\n",
       "      <th>2</th>\n",
       "      <td>A novel coronavirus from patients with pneumon...</td>\n",
       "      <td>NaN</td>\n",
       "      <td>64.0</td>\n",
       "    </tr>\n",
       "    <tr>\n",
       "      <th>3</th>\n",
       "      <td>A pneumonia outbreak associated with a new cor...</td>\n",
       "      <td>d5yt2fih</td>\n",
       "      <td>54.0</td>\n",
       "    </tr>\n",
       "    <tr>\n",
       "      <th>4</th>\n",
       "      <td>Genomic characterisation and epidemiology of 2...</td>\n",
       "      <td>ru8dtoaa</td>\n",
       "      <td>41.0</td>\n",
       "    </tr>\n",
       "    <tr>\n",
       "      <th>5</th>\n",
       "      <td>A familial cluster of pneumonia associated wit...</td>\n",
       "      <td>j3avpu1y</td>\n",
       "      <td>34.0</td>\n",
       "    </tr>\n",
       "    <tr>\n",
       "      <th>6</th>\n",
       "      <td>First case of 2019 novel coronavirus in the Un...</td>\n",
       "      <td>NaN</td>\n",
       "      <td>32.0</td>\n",
       "    </tr>\n",
       "    <tr>\n",
       "      <th>7</th>\n",
       "      <td>A new coronavirus associated with human respir...</td>\n",
       "      <td>69touqca</td>\n",
       "      <td>29.0</td>\n",
       "    </tr>\n",
       "    <tr>\n",
       "      <th>8</th>\n",
       "      <td>Remdesivir and chloroquine effectively inhibit...</td>\n",
       "      <td>r22x7gnu</td>\n",
       "      <td>20.0</td>\n",
       "    </tr>\n",
       "    <tr>\n",
       "      <th>9</th>\n",
       "      <td>Early transmission dynamics in Wuhan, China, o...</td>\n",
       "      <td>NaN</td>\n",
       "      <td>19.0</td>\n",
       "    </tr>\n",
       "    <tr>\n",
       "      <th>10</th>\n",
       "      <td>A novel coronavirus outbreak of global health ...</td>\n",
       "      <td>1burnc8j</td>\n",
       "      <td>19.0</td>\n",
       "    </tr>\n",
       "    <tr>\n",
       "      <th>11</th>\n",
       "      <td>Clinical characteristics of 138 hospitalized p...</td>\n",
       "      <td>NaN</td>\n",
       "      <td>17.0</td>\n",
       "    </tr>\n",
       "    <tr>\n",
       "      <th>12</th>\n",
       "      <td>Clinical characteristics of coronavirus diseas...</td>\n",
       "      <td>NaN</td>\n",
       "      <td>16.0</td>\n",
       "    </tr>\n",
       "    <tr>\n",
       "      <th>13</th>\n",
       "      <td>Detection of 2019 novel coronavirus (2019-nCoV...</td>\n",
       "      <td>2p80xp5s</td>\n",
       "      <td>16.0</td>\n",
       "    </tr>\n",
       "    <tr>\n",
       "      <th>14</th>\n",
       "      <td>Clinical characteristics of 2019 novel coronav...</td>\n",
       "      <td>tovfd9lw</td>\n",
       "      <td>15.0</td>\n",
       "    </tr>\n",
       "    <tr>\n",
       "      <th>15</th>\n",
       "      <td>Early transmission dynamics in Wuhan, China, o...</td>\n",
       "      <td>NaN</td>\n",
       "      <td>14.0</td>\n",
       "    </tr>\n",
       "    <tr>\n",
       "      <th>16</th>\n",
       "      <td>Nowcasting and forecasting the potential domes...</td>\n",
       "      <td>32v44sw9</td>\n",
       "      <td>14.0</td>\n",
       "    </tr>\n",
       "    <tr>\n",
       "      <th>17</th>\n",
       "      <td>A Novel Coronavirus from Patients with Pneumon...</td>\n",
       "      <td>na4iw204</td>\n",
       "      <td>14.0</td>\n",
       "    </tr>\n",
       "    <tr>\n",
       "      <th>18</th>\n",
       "      <td>Clinical course and outcomes of critically ill...</td>\n",
       "      <td>di7hfghi</td>\n",
       "      <td>14.0</td>\n",
       "    </tr>\n",
       "  </tbody>\n",
       "</table>\n",
       "</div>"
      ],
      "text/plain": [
       "                                          cited_paper       uid  count\n",
       "0   Clinical features of patients infected with 20...  m2lq1qnp  117.0\n",
       "1   Epidemiological and clinical characteristics o...  cxw5nv7d   67.0\n",
       "2   A novel coronavirus from patients with pneumon...       NaN   64.0\n",
       "3   A pneumonia outbreak associated with a new cor...  d5yt2fih   54.0\n",
       "4   Genomic characterisation and epidemiology of 2...  ru8dtoaa   41.0\n",
       "5   A familial cluster of pneumonia associated wit...  j3avpu1y   34.0\n",
       "6   First case of 2019 novel coronavirus in the Un...       NaN   32.0\n",
       "7   A new coronavirus associated with human respir...  69touqca   29.0\n",
       "8   Remdesivir and chloroquine effectively inhibit...  r22x7gnu   20.0\n",
       "9   Early transmission dynamics in Wuhan, China, o...       NaN   19.0\n",
       "10  A novel coronavirus outbreak of global health ...  1burnc8j   19.0\n",
       "11  Clinical characteristics of 138 hospitalized p...       NaN   17.0\n",
       "12  Clinical characteristics of coronavirus diseas...       NaN   16.0\n",
       "13  Detection of 2019 novel coronavirus (2019-nCoV...  2p80xp5s   16.0\n",
       "14  Clinical characteristics of 2019 novel coronav...  tovfd9lw   15.0\n",
       "15  Early transmission dynamics in Wuhan, China, o...       NaN   14.0\n",
       "16  Nowcasting and forecasting the potential domes...  32v44sw9   14.0\n",
       "17  A Novel Coronavirus from Patients with Pneumon...  na4iw204   14.0\n",
       "18  Clinical course and outcomes of critically ill...  di7hfghi   14.0"
      ]
     },
     "execution_count": 6,
     "metadata": {},
     "output_type": "execute_result"
    }
   ],
   "source": [
    "top_cited_papers_dict['2020-03']"
   ]
  },
  {
   "cell_type": "code",
   "execution_count": 4,
   "metadata": {},
   "outputs": [],
   "source": [
    "# set(top_cited_papers_dict['2020-01']['uid'])"
   ]
  },
  {
   "cell_type": "code",
   "execution_count": 5,
   "metadata": {},
   "outputs": [],
   "source": [
    "# set(top_cited_papers_dict['2020-02']['uid'])"
   ]
  },
  {
   "cell_type": "code",
   "execution_count": 6,
   "metadata": {},
   "outputs": [],
   "source": [
    "# set(top_cited_papers_dict['2020-03']['uid'])"
   ]
  },
  {
   "cell_type": "code",
   "execution_count": 4,
   "metadata": {},
   "outputs": [],
   "source": [
    "# 所有论文的embedding\n",
    "title_embs_df = pd.read_csv(f'scibert编码文章/title_embs_df_{data_dir}.csv',index_col=0)\n",
    "abstract_embs_df = pd.read_csv(f'scibert编码文章/abstract_embs_df_{data_dir}.csv',index_col=0)\n",
    "paper_emb = title_embs_df.join(abstract_embs_df,lsuffix='_ti',rsuffix='_ab')\n",
    "uid_map = {uid:i for i,uid in enumerate(title_embs_df.index)}\n",
    "X = paper_emb.values\n",
    "\n",
    "# title_embs_df = pd.read_csv(f'scibert编码文章/title_embs_df_{data_dir}.csv',index_col=0)\n",
    "# abstract_embs_df = pd.read_csv(f'scibert编码文章/abstract_embs_df_{data_dir}.csv',index_col=0)\n",
    "# paper_emb = abstract_embs_df\n",
    "# uid_map = {uid:i for i,uid in enumerate(title_embs_df.index)}\n",
    "# X = paper_emb.values"
   ]
  },
  {
   "cell_type": "code",
   "execution_count": 5,
   "metadata": {},
   "outputs": [],
   "source": [
    "# 所有论文的元数据\n",
    "paper_self_info = pd.read_csv(f'指标初步探索/paper_self_info_{data_dir}_scibert.csv',\n",
    "           dtype={'citing_paper':'object','cord_uid':'object',\n",
    "#                   'citing_year':'object','citing_month':'object','citing_date':'object',\n",
    "                  'citing_year_month':'object',\n",
    "                  'min_cos_distance':'float','mean_cos_distance':'float',\n",
    "                })"
   ]
  },
  {
   "cell_type": "code",
   "execution_count": 6,
   "metadata": {},
   "outputs": [],
   "source": [
    "visualized_papers = paper_self_info.loc[paper_self_info['citing_year_month'].isin(['2020-01','2020-02'])] # ,'2020-03'"
   ]
  },
  {
   "cell_type": "code",
   "execution_count": 7,
   "metadata": {},
   "outputs": [],
   "source": [
    "visualized_papers_embs = paper_emb.loc[visualized_papers.cord_uid]"
   ]
  },
  {
   "cell_type": "code",
   "execution_count": 8,
   "metadata": {},
   "outputs": [
    {
     "name": "stderr",
     "output_type": "stream",
     "text": [
      "c:\\users\\86187\\appdata\\local\\programs\\python\\python37\\lib\\site-packages\\sklearn\\manifold\\_t_sne.py:783: FutureWarning: The default initialization in TSNE will change from 'random' to 'pca' in 1.2.\n",
      "  FutureWarning,\n",
      "c:\\users\\86187\\appdata\\local\\programs\\python\\python37\\lib\\site-packages\\sklearn\\manifold\\_t_sne.py:827: FutureWarning: 'square_distances' has been introduced in 0.24 to help phase out legacy squaring behavior. The 'legacy' setting will be removed in 1.1 (renaming of 0.26), and the default setting will be changed to True. In 1.3, 'square_distances' will be removed altogether, and distances will be squared by default. Set 'square_distances'=True to silence this warning.\n",
      "  FutureWarning,\n"
     ]
    }
   ],
   "source": [
    "X_tsne = TSNE(n_components=2,perplexity=5,learning_rate=50,metric='cosine',n_jobs=-1).fit_transform(visualized_papers_embs.values)"
   ]
  },
  {
   "cell_type": "code",
   "execution_count": 9,
   "metadata": {},
   "outputs": [],
   "source": [
    "visualized_papers['top_cited_1'] = 0\n",
    "visualized_papers['top_cited_2'] = 0\n",
    "visualized_papers['top_cited_3'] = 0\n",
    "visualized_papers['top_cited_4'] = 0\n",
    "visualized_papers['publish_time'] = 0"
   ]
  },
  {
   "cell_type": "code",
   "execution_count": 10,
   "metadata": {},
   "outputs": [],
   "source": [
    "visualized_papers = visualized_papers[['cord_uid','citing_paper','citing_year_month','publish_time','top_cited_1','top_cited_2','top_cited_3','top_cited_4']]"
   ]
  },
  {
   "cell_type": "code",
   "execution_count": 11,
   "metadata": {},
   "outputs": [],
   "source": [
    "visualized_papers['publish_time'] = visualized_papers['citing_year_month'].map(lambda x:x[-1]).astype(int)"
   ]
  },
  {
   "cell_type": "code",
   "execution_count": 12,
   "metadata": {},
   "outputs": [],
   "source": [
    "for i in range(1,5):\n",
    "    top_cited = []\n",
    "    for uid,publish_time in zip(visualized_papers['cord_uid'],visualized_papers['publish_time']):\n",
    "        if uid in set(top_cited_papers_dict[f'2020-0{i}']['uid']):\n",
    "            top_cited.append(1)\n",
    "        else:\n",
    "            top_cited.append(0)\n",
    "    visualized_papers[f'top_cited_{i}'] = top_cited"
   ]
  },
  {
   "cell_type": "code",
   "execution_count": 13,
   "metadata": {},
   "outputs": [
    {
     "data": {
      "text/html": [
       "<div>\n",
       "<style scoped>\n",
       "    .dataframe tbody tr th:only-of-type {\n",
       "        vertical-align: middle;\n",
       "    }\n",
       "\n",
       "    .dataframe tbody tr th {\n",
       "        vertical-align: top;\n",
       "    }\n",
       "\n",
       "    .dataframe thead th {\n",
       "        text-align: right;\n",
       "    }\n",
       "</style>\n",
       "<table border=\"1\" class=\"dataframe\">\n",
       "  <thead>\n",
       "    <tr style=\"text-align: right;\">\n",
       "      <th></th>\n",
       "      <th>cord_uid</th>\n",
       "      <th>citing_paper</th>\n",
       "      <th>citing_year_month</th>\n",
       "      <th>publish_time</th>\n",
       "      <th>top_cited_1</th>\n",
       "      <th>top_cited_2</th>\n",
       "      <th>top_cited_3</th>\n",
       "      <th>top_cited_4</th>\n",
       "    </tr>\n",
       "  </thead>\n",
       "  <tbody>\n",
       "    <tr>\n",
       "      <th>11</th>\n",
       "      <td>dei0xd1b</td>\n",
       "      <td>COVID-19: Zoonotic aspects</td>\n",
       "      <td>2020-02</td>\n",
       "      <td>2</td>\n",
       "      <td>0</td>\n",
       "      <td>0</td>\n",
       "      <td>0</td>\n",
       "      <td>0</td>\n",
       "    </tr>\n",
       "    <tr>\n",
       "      <th>67</th>\n",
       "      <td>sp7ctspl</td>\n",
       "      <td>A Novel Approach of Consultation on 2019 Novel...</td>\n",
       "      <td>2020-02</td>\n",
       "      <td>2</td>\n",
       "      <td>0</td>\n",
       "      <td>0</td>\n",
       "      <td>0</td>\n",
       "      <td>0</td>\n",
       "    </tr>\n",
       "    <tr>\n",
       "      <th>130</th>\n",
       "      <td>jbwvzq8o</td>\n",
       "      <td>Anxiety among Doctors during COVID-19 Pandemic...</td>\n",
       "      <td>2020-01</td>\n",
       "      <td>1</td>\n",
       "      <td>0</td>\n",
       "      <td>0</td>\n",
       "      <td>0</td>\n",
       "      <td>0</td>\n",
       "    </tr>\n",
       "    <tr>\n",
       "      <th>138</th>\n",
       "      <td>e36l3t1g</td>\n",
       "      <td>A Fourteen-day Experience with Coronavirus Dis...</td>\n",
       "      <td>2020-01</td>\n",
       "      <td>1</td>\n",
       "      <td>0</td>\n",
       "      <td>0</td>\n",
       "      <td>0</td>\n",
       "      <td>0</td>\n",
       "    </tr>\n",
       "    <tr>\n",
       "      <th>169</th>\n",
       "      <td>vtjsigod</td>\n",
       "      <td>Novel coronavirus infection during the 2019–20...</td>\n",
       "      <td>2020-02</td>\n",
       "      <td>2</td>\n",
       "      <td>0</td>\n",
       "      <td>0</td>\n",
       "      <td>0</td>\n",
       "      <td>0</td>\n",
       "    </tr>\n",
       "    <tr>\n",
       "      <th>...</th>\n",
       "      <td>...</td>\n",
       "      <td>...</td>\n",
       "      <td>...</td>\n",
       "      <td>...</td>\n",
       "      <td>...</td>\n",
       "      <td>...</td>\n",
       "      <td>...</td>\n",
       "      <td>...</td>\n",
       "    </tr>\n",
       "    <tr>\n",
       "      <th>47379</th>\n",
       "      <td>6zlxqhuq</td>\n",
       "      <td>Communicating the Risk of Death from Novel Cor...</td>\n",
       "      <td>2020-02</td>\n",
       "      <td>2</td>\n",
       "      <td>0</td>\n",
       "      <td>0</td>\n",
       "      <td>0</td>\n",
       "      <td>0</td>\n",
       "    </tr>\n",
       "    <tr>\n",
       "      <th>47499</th>\n",
       "      <td>4ikxmpyn</td>\n",
       "      <td>NLRP3 Inflammasome—A Key Player in Antiviral R...</td>\n",
       "      <td>2020-02</td>\n",
       "      <td>2</td>\n",
       "      <td>0</td>\n",
       "      <td>0</td>\n",
       "      <td>0</td>\n",
       "      <td>0</td>\n",
       "    </tr>\n",
       "    <tr>\n",
       "      <th>47552</th>\n",
       "      <td>eelqmzdx</td>\n",
       "      <td>Influential Nodes Identification in Complex Ne...</td>\n",
       "      <td>2020-02</td>\n",
       "      <td>2</td>\n",
       "      <td>0</td>\n",
       "      <td>0</td>\n",
       "      <td>0</td>\n",
       "      <td>0</td>\n",
       "    </tr>\n",
       "    <tr>\n",
       "      <th>47564</th>\n",
       "      <td>wgs69cu6</td>\n",
       "      <td>Ultrasensitive haptoglobin biomarker detection...</td>\n",
       "      <td>2020-01</td>\n",
       "      <td>1</td>\n",
       "      <td>0</td>\n",
       "      <td>0</td>\n",
       "      <td>0</td>\n",
       "      <td>0</td>\n",
       "    </tr>\n",
       "    <tr>\n",
       "      <th>47842</th>\n",
       "      <td>auu02ibd</td>\n",
       "      <td>COVID-19 R0: Magic number or conundrum?</td>\n",
       "      <td>2020-02</td>\n",
       "      <td>2</td>\n",
       "      <td>0</td>\n",
       "      <td>0</td>\n",
       "      <td>0</td>\n",
       "      <td>0</td>\n",
       "    </tr>\n",
       "  </tbody>\n",
       "</table>\n",
       "<p>594 rows × 8 columns</p>\n",
       "</div>"
      ],
      "text/plain": [
       "       cord_uid                                       citing_paper  \\\n",
       "11     dei0xd1b                         COVID-19: Zoonotic aspects   \n",
       "67     sp7ctspl  A Novel Approach of Consultation on 2019 Novel...   \n",
       "130    jbwvzq8o  Anxiety among Doctors during COVID-19 Pandemic...   \n",
       "138    e36l3t1g  A Fourteen-day Experience with Coronavirus Dis...   \n",
       "169    vtjsigod  Novel coronavirus infection during the 2019–20...   \n",
       "...         ...                                                ...   \n",
       "47379  6zlxqhuq  Communicating the Risk of Death from Novel Cor...   \n",
       "47499  4ikxmpyn  NLRP3 Inflammasome—A Key Player in Antiviral R...   \n",
       "47552  eelqmzdx  Influential Nodes Identification in Complex Ne...   \n",
       "47564  wgs69cu6  Ultrasensitive haptoglobin biomarker detection...   \n",
       "47842  auu02ibd            COVID-19 R0: Magic number or conundrum?   \n",
       "\n",
       "      citing_year_month  publish_time  top_cited_1  top_cited_2  top_cited_3  \\\n",
       "11              2020-02             2            0            0            0   \n",
       "67              2020-02             2            0            0            0   \n",
       "130             2020-01             1            0            0            0   \n",
       "138             2020-01             1            0            0            0   \n",
       "169             2020-02             2            0            0            0   \n",
       "...                 ...           ...          ...          ...          ...   \n",
       "47379           2020-02             2            0            0            0   \n",
       "47499           2020-02             2            0            0            0   \n",
       "47552           2020-02             2            0            0            0   \n",
       "47564           2020-01             1            0            0            0   \n",
       "47842           2020-02             2            0            0            0   \n",
       "\n",
       "       top_cited_4  \n",
       "11               0  \n",
       "67               0  \n",
       "130              0  \n",
       "138              0  \n",
       "169              0  \n",
       "...            ...  \n",
       "47379            0  \n",
       "47499            0  \n",
       "47552            0  \n",
       "47564            0  \n",
       "47842            0  \n",
       "\n",
       "[594 rows x 8 columns]"
      ]
     },
     "execution_count": 13,
     "metadata": {},
     "output_type": "execute_result"
    }
   ],
   "source": [
    "visualized_papers"
   ]
  },
  {
   "cell_type": "code",
   "execution_count": 24,
   "metadata": {},
   "outputs": [
    {
     "data": {
      "text/plain": [
       "array([[-16.85617  ,  56.345203 ],\n",
       "       [-42.079193 ,  42.324745 ],\n",
       "       [ 52.88314  ,  -2.5478728]], dtype=float32)"
      ]
     },
     "execution_count": 24,
     "metadata": {},
     "output_type": "execute_result"
    }
   ],
   "source": [
    "X_tsne[visualized_papers['top_cited_3'].values == 1]"
   ]
  },
  {
   "cell_type": "code",
   "execution_count": 20,
   "metadata": {
    "scrolled": true
   },
   "outputs": [
    {
     "data": {
      "image/png": "[encoded data removed]",
      "text/plain": [
       "<Figure size 864x1080 with 1 Axes>"
      ]
     },
     "metadata": {},
     "output_type": "display_data"
    }
   ],
   "source": [
    "# colors = ['lightsteelblue','palegreen','pink']\n",
    "fig,ax = plt.subplots(figsize=(12,15))\n",
    "\n",
    "my_x_ticks = np.arange(-90, 70, 10)#原始数据有13个点，故此处为设置从0开始，间隔为1\n",
    "# ax.set_xticks(my_x_ticks)\n",
    "# ax.set_yticks(my_x_ticks)\n",
    "plt.xlim(-75, 95)\n",
    "plt.ylim(-60, 60)\n",
    "\n",
    "for i in range(1,3):\n",
    "    if i == 1:\n",
    "        label = 'JAN'\n",
    "    if i == 2:\n",
    "        label ='FEB'\n",
    "    cords = X_tsne[visualized_papers['publish_time'].values == i]\n",
    "    x,y = cords[:,0],cords[:,1]\n",
    "    ax.scatter(x,y,marker='o',  linewidths=0, label = label, s=100, alpha=0.8) # c=colors[i-1],\n",
    "    \n",
    "\n",
    "drawed_cords = set()\n",
    "for i in range(1,4):\n",
    "    cords = X_tsne[visualized_papers[f'top_cited_{i}'].values == 1]\n",
    "    x,y = cords[:,0],cords[:,1]\n",
    "    if i == 2:\n",
    "        for x_, y_ in zip(x,y):\n",
    "            if (x_, y_) in drawed_cords:\n",
    "                continue\n",
    "            drawed_cords.add((x_,y_))\n",
    "            ax.scatter(x_,y_,marker='^', c='red', linewidths=0, s=50)\n",
    "    if i == 3:\n",
    "        for x_, y_ in zip(x,y):\n",
    "            if (x_, y_) in drawed_cords:\n",
    "                continue\n",
    "            drawed_cords.add((x_,y_))\n",
    "            ax.scatter(x_,y_,marker='^', c='blue', linewidths=0, s=50)\n",
    "\n",
    "# cord_dict = defaultdict(int)\n",
    "# for i in range(2,4):\n",
    "#     cords = X_tsne[visualized_papers[f'top_cited_{i}'].values == 1]\n",
    "#     x,y = cords[:,0],cords[:,1]\n",
    "    \n",
    "#     for sx,sy in zip(x,y):\n",
    "#         cord_dict[(sx,sy)] += 2\n",
    "#         print(sx,sy)\n",
    "#         ax.text(sx+cord_dict[(sx,sy)],sy,f\"{i}\",fontsize=15)\n",
    "#         if i == 3:\n",
    "#             print(sx ,sy)\n",
    "#             ax.add_patch(plt.Circle((-42.079193,42.324745),30.438667608675843,fill=False, color='red', alpha=0.6))\n",
    "#             ax.add_patch(plt.Circle((-42.079193,42.324745),118.57804053754063,fill=False, color='red', alpha=0.6)) # \n",
    "\n",
    "# plt.text(-60,40,'≈ 19.20%',fontsize=16,c='red')\n",
    "# plt.text(55,-30,'≈ 13.47%',fontsize=16,c='red')\n",
    "# plt.text(-50,-40,'≈ 67.33%',fontsize=16,c='red')\n",
    "plt.gca().set_aspect('equal', adjustable='box')\n",
    "plt.legend(loc='lower left',fontsize=16)\n",
    "plt.tight_layout()\n",
    "plt.savefig('top_paper_case.svg')"
   ]
  },
  {
   "cell_type": "code",
   "execution_count": 69,
   "metadata": {},
   "outputs": [
    {
     "data": {
      "text/plain": [
       "0.13468013468013468"
      ]
     },
     "execution_count": 69,
     "metadata": {},
     "output_type": "execute_result"
    }
   ],
   "source": [
    "(np.hstack([np.linalg.norm(X_tsne[visualized_papers['publish_time'].values == 1] - np.array([64.21386,2.0024853]),axis=1),\n",
    "np.linalg.norm(X_tsne[visualized_papers['publish_time'].values == 2] - np.array([64.21386,2.0024853]),axis=1)])<30.43866760867584).sum()/594"
   ]
  },
  {
   "cell_type": "code",
   "execution_count": 64,
   "metadata": {},
   "outputs": [
    {
     "data": {
      "text/plain": [
       "(594,)"
      ]
     },
     "execution_count": 64,
     "metadata": {},
     "output_type": "execute_result"
    }
   ],
   "source": [
    "np.hstack([np.linalg.norm(X_tsne[visualized_papers['publish_time'].values == 1] - np.array([64.21386,2.0024853]),axis=1),\n",
    "np.linalg.norm(X_tsne[visualized_papers['publish_time'].values == 2] - np.array([64.21386,2.0024853]),axis=1)]).shape"
   ]
  },
  {
   "cell_type": "code",
   "execution_count": 19,
   "metadata": {},
   "outputs": [],
   "source": [
    "# # colors = ['royalblue','forestgreen','crimson']\n",
    "# for i in range(1,5):\n",
    "#     cords = X_tsne[visualized_papers['top_cited'].values == i]\n",
    "#     x,y = cords[:,0],cords[:,1]\n",
    "#     plt.scatter(x,y,marker='o', c='red', linewidths=0,edgecolors='red',)\n",
    "# plt.legend()"
   ]
  }
 ],
 "metadata": {
  "kernelspec": {
   "display_name": "Python 3",
   "language": "python",
   "name": "python3"
  },
  "language_info": {
   "codemirror_mode": {
    "name": "ipython",
    "version": 3
   },
   "file_extension": ".py",
   "mimetype": "text/x-python",
   "name": "python",
   "nbconvert_exporter": "python",
   "pygments_lexer": "ipython3",
   "version": "3.7.7"
  }
 },
 "nbformat": 4,
 "nbformat_minor": 4
}
