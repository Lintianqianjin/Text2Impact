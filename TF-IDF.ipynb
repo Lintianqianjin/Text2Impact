{
 "cells": [
  {
   "cell_type": "code",
   "execution_count": 1,
   "metadata": {},
   "outputs": [],
   "source": [
    "import pandas as pd\n",
    "from scipy.sparse import csc_matrix\n",
    "from scipy.sparse import save_npz\n",
    "\n",
    "import json\n",
    "from nltk.tokenize import word_tokenize\n",
    "from nltk.stem import WordNetLemmatizer\n",
    "from tqdm import tqdm\n",
    "\n",
    "import torch\n",
    "\n",
    "from transformers import AutoTokenizer, AutoModel"
   ]
  },
  {
   "cell_type": "code",
   "execution_count": 2,
   "metadata": {},
   "outputs": [],
   "source": [
    "data_dir = '2021-07-19'"
   ]
  },
  {
   "cell_type": "code",
   "execution_count": 3,
   "metadata": {},
   "outputs": [],
   "source": [
    "# lemmatizer = WordNetLemmatizer()\n",
    "# lemmatize = lambda sent: ' '.join(list(map(lambda word: lemmatizer.lemmatize(word), word_tokenize(sent))))"
   ]
  },
  {
   "cell_type": "code",
   "execution_count": 4,
   "metadata": {},
   "outputs": [],
   "source": [
    "# tokenizer.convert_ids_to_tokens(lemmatize(data.at[0,'concat_title_abs'])['input_ids'][0])"
   ]
  },
  {
   "cell_type": "code",
   "execution_count": 5,
   "metadata": {},
   "outputs": [],
   "source": [
    "tokenizer = AutoTokenizer.from_pretrained(\"allenai/scibert_scivocab_uncased\")\n",
    "lemmatize = lambda sent: ' '.join(tokenizer.convert_ids_to_tokens(\n",
    "                            tokenizer([sent], padding=False, truncation=False, \n",
    "                                      return_tensors=None,return_attention_mask=False,\n",
    "                                      add_special_tokens=False)['input_ids'][0]\n",
    "                        ))"
   ]
  },
  {
   "cell_type": "code",
   "execution_count": 6,
   "metadata": {},
   "outputs": [],
   "source": [
    "data = pd.read_csv(f'scibert_encoded_papers/needed_paper_metadata_{data_dir}.csv')"
   ]
  },
  {
   "cell_type": "code",
   "execution_count": 7,
   "metadata": {},
   "outputs": [],
   "source": [
    "data.fillna(' ',inplace=True)"
   ]
  },
  {
   "cell_type": "code",
   "execution_count": 8,
   "metadata": {},
   "outputs": [],
   "source": [
    "data['concat_title_abs'] =data[['title', 'abstract']].agg('. '.join, axis=1)"
   ]
  },
  {
   "cell_type": "code",
   "execution_count": 9,
   "metadata": {},
   "outputs": [],
   "source": [
    "data.drop(columns=['title','abstract'],inplace=True)"
   ]
  },
  {
   "cell_type": "code",
   "execution_count": 10,
   "metadata": {},
   "outputs": [
    {
     "data": {
      "text/plain": [
       "'Database resources of the National Center for Biotechnology Information. The National Center for Biotechnology Information (NCBI) provides a large suite of online resources for biological information and data, including the GenBank(®) nucleic acid sequence database and the PubMed database of citations and abstracts for published life science journals. Additional NCBI resources focus on literature (PubMed Central (PMC), Bookshelf and PubReader), health (ClinVar, dbGaP, dbMHC, the Genetic Testing Registry, HIV-1/Human Protein Interaction Database and MedGen), genomes (BioProject, Assembly, Genome, BioSample, dbSNP, dbVar, Epigenomics, the Map Viewer, Nucleotide, Probe, RefSeq, Sequence Read Archive, the Taxonomy Browser and the Trace Archive), genes (Gene, Gene Expression Omnibus (GEO), HomoloGene, PopSet and UniGene), proteins (Protein, the Conserved Domain Database (CDD), COBALT, Conserved Domain Architecture Retrieval Tool (CDART), the Molecular Modeling Database (MMDB) and Protein Clusters) and chemicals (Biosystems and the PubChem suite of small molecule databases). The Entrez system provides search and retrieval operations for most of these databases. Augmenting many of the web applications are custom implementations of the BLAST program optimized to search specialized datasets. All of these resources can be accessed through the NCBI home page at www.ncbi.nlm.nih.gov.'"
      ]
     },
     "execution_count": 10,
     "metadata": {},
     "output_type": "execute_result"
    }
   ],
   "source": [
    "data.at[0,'concat_title_abs']"
   ]
  },
  {
   "cell_type": "code",
   "execution_count": 11,
   "metadata": {},
   "outputs": [],
   "source": [
    "# lemmatize(data.at[0,'concat_title_abs'])"
   ]
  },
  {
   "cell_type": "code",
   "execution_count": 12,
   "metadata": {},
   "outputs": [],
   "source": [
    "data['concat_title_abs'] = data['concat_title_abs'].apply(lemmatize)"
   ]
  },
  {
   "cell_type": "code",
   "execution_count": 13,
   "metadata": {},
   "outputs": [
    {
     "data": {
      "text/plain": [
       "'database resources of the national center for biotechnology information . the national center for biotechnology information ( ncbi ) provides a large suite of online resources for biological information and data , including the genbank ( ® ) nucleic acid sequence database and the pubmed database of citations and abstracts for published life science journals . additional ncbi resources focus on literature ( pubmed central ( pmc ) , books ##hel ##f and pub ##read ##er ) , health ( clin ##var , db ##gap , dbm ##hc , the genetic testing registry , hiv - 1 / human protein interaction database and med ##gen ) , genomes ( biop ##ro ##ject , assembly , genome , bios ##ample , dbs ##np , db ##var , epi ##gen ##omics , the map viewer , nucleotide , probe , refs ##eq , sequence read archive , the taxonomy browser and the trace archive ) , genes ( gene , gene expression omn ##ibus ( geo ) , homolog ##ene , pop ##set and uni ##gene ) , proteins ( protein , the conserved domain database ( cd ##d ) , cobalt , conserved domain architecture retrieval tool ( cd ##art ) , the molecular modeling database ( mm ##db ) and protein clusters ) and chemicals ( biosystems and the pub ##chem suite of small molecule databases ) . the entre ##z system provides search and retrieval operations for most of these databases . augment ##ing many of the web applications are custom implementations of the blast program optimized to search specialized datasets . all of these resources can be accessed through the ncbi home page at www . ncbi . nl ##m . nih . go ##v .'"
      ]
     },
     "execution_count": 13,
     "metadata": {},
     "output_type": "execute_result"
    }
   ],
   "source": [
    "data.at[0,'concat_title_abs']"
   ]
  },
  {
   "cell_type": "code",
   "execution_count": 14,
   "metadata": {},
   "outputs": [],
   "source": [
    "from sklearn.feature_extraction.text import TfidfVectorizer\n",
    "corpus = data['concat_title_abs'].to_list()\n",
    "vectorizer = TfidfVectorizer(min_df=3)\n",
    "X = vectorizer.fit_transform(corpus)"
   ]
  },
  {
   "cell_type": "code",
   "execution_count": 15,
   "metadata": {},
   "outputs": [
    {
     "name": "stdout",
     "output_type": "stream",
     "text": [
      "number of words: 20091\n"
     ]
    }
   ],
   "source": [
    "print(f\"number of words: {len(vectorizer.get_feature_names())}\")"
   ]
  },
  {
   "cell_type": "code",
   "execution_count": 40,
   "metadata": {},
   "outputs": [
    {
     "name": "stderr",
     "output_type": "stream",
     "text": [
      "100%|████████████████████████████████████████████████████████████████████████████████| 100/100 [14:24<00:00,  8.64s/it]\n"
     ]
    }
   ],
   "source": [
    "now = []\n",
    "for i in tqdm(range(100)):\n",
    "    vectorizer = TfidfVectorizer(min_df=i)\n",
    "    X = vectorizer.fit_transform(corpus)\n",
    "    now.append(len(vectorizer.get_feature_names()))"
   ]
  },
  {
   "cell_type": "code",
   "execution_count": 41,
   "metadata": {},
   "outputs": [],
   "source": [
    "from matplotlib import pyplot as plt"
   ]
  },
  {
   "cell_type": "code",
   "execution_count": 42,
   "metadata": {},
   "outputs": [
    {
     "data": {
      "image/png": "[encoded data removed]",
      "text/plain": [
       "<Figure size 432x288 with 1 Axes>"
      ]
     },
     "metadata": {
      "needs_background": "light"
     },
     "output_type": "display_data"
    }
   ],
   "source": [
    "plt.plot(now)\n",
    "for i in range(10):\n",
    "    plt.plot([i,i],[0,10000],color='black')"
   ]
  },
  {
   "cell_type": "code",
   "execution_count": 16,
   "metadata": {},
   "outputs": [],
   "source": [
    "vectorizer = TfidfVectorizer(min_df=1)\n",
    "X = vectorizer.fit_transform(corpus)"
   ]
  },
  {
   "cell_type": "code",
   "execution_count": 17,
   "metadata": {},
   "outputs": [
    {
     "data": {
      "text/plain": [
       "scipy.sparse.csc.csc_matrix"
      ]
     },
     "execution_count": 17,
     "metadata": {},
     "output_type": "execute_result"
    }
   ],
   "source": [
    "type(csc_matrix(X))"
   ]
  },
  {
   "cell_type": "code",
   "execution_count": 18,
   "metadata": {},
   "outputs": [],
   "source": [
    "df = pd.DataFrame.sparse.from_spmatrix(X,columns=vectorizer.get_feature_names(),index=data['cord_uid'].to_list())"
   ]
  },
  {
   "cell_type": "code",
   "execution_count": 19,
   "metadata": {},
   "outputs": [
    {
     "data": {
      "text/plain": [
       "'database resources of the national center for biotechnology information . the national center for biotechnology information ( ncbi ) provides a large suite of online resources for biological information and data , including the genbank ( ® ) nucleic acid sequence database and the pubmed database of citations and abstracts for published life science journals . additional ncbi resources focus on literature ( pubmed central ( pmc ) , books ##hel ##f and pub ##read ##er ) , health ( clin ##var , db ##gap , dbm ##hc , the genetic testing registry , hiv - 1 / human protein interaction database and med ##gen ) , genomes ( biop ##ro ##ject , assembly , genome , bios ##ample , dbs ##np , db ##var , epi ##gen ##omics , the map viewer , nucleotide , probe , refs ##eq , sequence read archive , the taxonomy browser and the trace archive ) , genes ( gene , gene expression omn ##ibus ( geo ) , homolog ##ene , pop ##set and uni ##gene ) , proteins ( protein , the conserved domain database ( cd ##d ) , cobalt , conserved domain architecture retrieval tool ( cd ##art ) , the molecular modeling database ( mm ##db ) and protein clusters ) and chemicals ( biosystems and the pub ##chem suite of small molecule databases ) . the entre ##z system provides search and retrieval operations for most of these databases . augment ##ing many of the web applications are custom implementations of the blast program optimized to search specialized datasets . all of these resources can be accessed through the ncbi home page at www . ncbi . nl ##m . nih . go ##v .'"
      ]
     },
     "execution_count": 19,
     "metadata": {},
     "output_type": "execute_result"
    }
   ],
   "source": [
    "data.at[0,'concat_title_abs']"
   ]
  },
  {
   "cell_type": "code",
   "execution_count": 20,
   "metadata": {},
   "outputs": [
    {
     "data": {
      "text/plain": [
       "0.07584667287752428"
      ]
     },
     "execution_count": 20,
     "metadata": {},
     "output_type": "execute_result"
    }
   ],
   "source": [
    "df.loc['a564l6vs','national']"
   ]
  },
  {
   "cell_type": "code",
   "execution_count": 22,
   "metadata": {},
   "outputs": [],
   "source": [
    "save_npz(f'tf-idf-results/values_{data_dir}_scibert_token.npz', X)\n",
    "\n",
    "with open(f'tf-idf-results/index_{data_dir}_scibert_token','w',encoding='utf-8') as fw:\n",
    "    fw.write(json.dumps(df.index.to_list(),indent=1))\n",
    "\n",
    "with open(f'tf-idf-results/column_{data_dir}_scibert_token','w',encoding='utf-8') as fw:\n",
    "    fw.write(json.dumps(df.columns.to_list(),indent=1))"
   ]
  },
  {
   "cell_type": "code",
   "execution_count": null,
   "metadata": {},
   "outputs": [],
   "source": []
  }
 ],
 "metadata": {
  "kernelspec": {
   "display_name": "Python 3",
   "language": "python",
   "name": "python3"
  },
  "language_info": {
   "codemirror_mode": {
    "name": "ipython",
    "version": 3
   },
   "file_extension": ".py",
   "mimetype": "text/x-python",
   "name": "python",
   "nbconvert_exporter": "python",
   "pygments_lexer": "ipython3",
   "version": "3.7.7"
  }
 },
 "nbformat": 4,
 "nbformat_minor": 4
}
