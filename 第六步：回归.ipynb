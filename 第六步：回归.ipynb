{
 "cells": [
  {
   "cell_type": "code",
   "execution_count": 1,
   "metadata": {},
   "outputs": [],
   "source": [
    "import pandas as pd\n",
    "import json\n",
    "from collections import Counter\n",
    "\n",
    "import numpy as np\n",
    "from sklearn import datasets, linear_model\n",
    "from sklearn.linear_model import LinearRegression\n",
    "import statsmodels.api as sm\n",
    "from scipy import stats\n",
    "\n",
    "from matplotlib import pyplot as plt\n",
    "\n",
    "import seaborn as sns"
   ]
  },
  {
   "cell_type": "code",
   "execution_count": 2,
   "metadata": {},
   "outputs": [],
   "source": [
    "data_dir = '2021-07-19'\n",
    "\n",
    "method = 'scibert'\n",
    "# method = 'tfidf'\n",
    "# method = 'glove'\n",
    "\n",
    "# time_window = 1\n",
    "time_window = 6\n",
    "\n",
    "contain_zero = False\n",
    "# contain_zero = True"
   ]
  },
  {
   "cell_type": "code",
   "execution_count": 4,
   "metadata": {},
   "outputs": [],
   "source": [
    "valid_samples = pd.read_csv(f'指标初步探索/valid_samples_{data_dir}_{method}_timewindow_{time_window}.csv',sep='\\t')"
   ]
  },
  {
   "cell_type": "code",
   "execution_count": 5,
   "metadata": {},
   "outputs": [],
   "source": [
    "if not contain_zero:\n",
    "    valid_samples = valid_samples.loc[valid_samples['count']>0]"
   ]
  },
  {
   "cell_type": "code",
   "execution_count": 6,
   "metadata": {},
   "outputs": [],
   "source": [
    "all_year_month = ['2020-01','2020-02','2020-03','2020-04','2020-05','2020-06','2020-07','2020-08','2020-09','2020-10',\n",
    "                 '2020-11','2020-12','2021-01','2021-02','2021-03','2021-04','2021-05']"
   ]
  },
  {
   "cell_type": "code",
   "execution_count": 7,
   "metadata": {},
   "outputs": [],
   "source": [
    "year_months_train = all_year_month[1:-time_window-1]\n",
    "year_months_test = all_year_month[-time_window-1:-time_window]"
   ]
  },
  {
   "cell_type": "code",
   "execution_count": 7,
   "metadata": {},
   "outputs": [
    {
     "data": {
      "text/plain": [
       "['2020-02',\n",
       " '2020-03',\n",
       " '2020-04',\n",
       " '2020-05',\n",
       " '2020-06',\n",
       " '2020-07',\n",
       " '2020-08',\n",
       " '2020-09',\n",
       " '2020-10']"
      ]
     },
     "execution_count": 7,
     "metadata": {},
     "output_type": "execute_result"
    }
   ],
   "source": [
    "year_months_train"
   ]
  },
  {
   "cell_type": "code",
   "execution_count": 8,
   "metadata": {},
   "outputs": [],
   "source": [
    "valid_samples_train = valid_samples.loc[valid_samples['publish_year_month'].isin(year_months_train)]"
   ]
  },
  {
   "cell_type": "code",
   "execution_count": 9,
   "metadata": {},
   "outputs": [],
   "source": [
    "valid_samples_test = valid_samples.loc[valid_samples['publish_year_month'].isin(year_months_test)]"
   ]
  },
  {
   "cell_type": "code",
   "execution_count": 10,
   "metadata": {},
   "outputs": [
    {
     "data": {
      "text/plain": [
       "((2701, 12), (193, 12))"
      ]
     },
     "execution_count": 10,
     "metadata": {},
     "output_type": "execute_result"
    }
   ],
   "source": [
    "valid_samples_train.shape,valid_samples_test.shape"
   ]
  },
  {
   "cell_type": "code",
   "execution_count": 11,
   "metadata": {},
   "outputs": [],
   "source": [
    "# valid_samples_train"
   ]
  },
  {
   "cell_type": "code",
   "execution_count": 11,
   "metadata": {},
   "outputs": [],
   "source": [
    "def func(x,params):\n",
    "#     print(x)   \n",
    "    return x.dot(params[1:])+params[0]"
   ]
  },
  {
   "cell_type": "code",
   "execution_count": 32,
   "metadata": {
    "scrolled": true
   },
   "outputs": [],
   "source": [
    "X = 1-valid_samples_train[['mean_cos_distance']].values\n",
    "y = valid_samples_train['count'].values\n",
    "X2 = sm.add_constant(X,prepend=True,has_constant=True)\n",
    "est = sm.OLS(y, X2)\n",
    "results = est.fit()\n",
    "# print(results.summary())"
   ]
  },
  {
   "cell_type": "code",
   "execution_count": 14,
   "metadata": {},
   "outputs": [
    {
     "data": {
      "text/html": [
       "<div>\n",
       "<style scoped>\n",
       "    .dataframe tbody tr th:only-of-type {\n",
       "        vertical-align: middle;\n",
       "    }\n",
       "\n",
       "    .dataframe tbody tr th {\n",
       "        vertical-align: top;\n",
       "    }\n",
       "\n",
       "    .dataframe thead th {\n",
       "        text-align: right;\n",
       "    }\n",
       "</style>\n",
       "<table border=\"1\" class=\"dataframe\">\n",
       "  <thead>\n",
       "    <tr style=\"text-align: right;\">\n",
       "      <th></th>\n",
       "      <th>coef</th>\n",
       "      <th>std err</th>\n",
       "      <th>t</th>\n",
       "      <th>P&gt;|t|</th>\n",
       "      <th>[0.025</th>\n",
       "      <th>0.975]</th>\n",
       "    </tr>\n",
       "  </thead>\n",
       "  <tbody>\n",
       "    <tr>\n",
       "      <th>const</th>\n",
       "      <td>-1.2204</td>\n",
       "      <td>1.766</td>\n",
       "      <td>-0.691</td>\n",
       "      <td>0.49</td>\n",
       "      <td>-4.684</td>\n",
       "      <td>2.243</td>\n",
       "    </tr>\n",
       "    <tr>\n",
       "      <th>x1</th>\n",
       "      <td>5.3736</td>\n",
       "      <td>2.480</td>\n",
       "      <td>2.166</td>\n",
       "      <td>0.03</td>\n",
       "      <td>0.510</td>\n",
       "      <td>10.237</td>\n",
       "    </tr>\n",
       "  </tbody>\n",
       "</table>\n",
       "</div>"
      ],
      "text/plain": [
       "         coef  std err      t  P>|t|  [0.025  0.975]\n",
       "const -1.2204    1.766 -0.691   0.49  -4.684   2.243\n",
       "x1     5.3736    2.480  2.166   0.03   0.510  10.237"
      ]
     },
     "execution_count": 14,
     "metadata": {},
     "output_type": "execute_result"
    }
   ],
   "source": [
    "results_as_html = results.summary().tables[1].as_html()\n",
    "pd.read_html(results_as_html, header=0, index_col=0)[0]"
   ]
  },
  {
   "cell_type": "code",
   "execution_count": 33,
   "metadata": {},
   "outputs": [],
   "source": [
    "X = valid_samples_train[['min_cos_distance']].values\n",
    "y = valid_samples_train['count'].values\n",
    "X2 = sm.add_constant(X,prepend=True,has_constant=True)\n",
    "est = sm.OLS(y, X2)\n",
    "results = est.fit()\n",
    "# print(results.summary())"
   ]
  },
  {
   "cell_type": "code",
   "execution_count": 16,
   "metadata": {},
   "outputs": [
    {
     "data": {
      "text/html": [
       "<div>\n",
       "<style scoped>\n",
       "    .dataframe tbody tr th:only-of-type {\n",
       "        vertical-align: middle;\n",
       "    }\n",
       "\n",
       "    .dataframe tbody tr th {\n",
       "        vertical-align: top;\n",
       "    }\n",
       "\n",
       "    .dataframe thead th {\n",
       "        text-align: right;\n",
       "    }\n",
       "</style>\n",
       "<table border=\"1\" class=\"dataframe\">\n",
       "  <thead>\n",
       "    <tr style=\"text-align: right;\">\n",
       "      <th></th>\n",
       "      <th>coef</th>\n",
       "      <th>std err</th>\n",
       "      <th>t</th>\n",
       "      <th>P&gt;|t|</th>\n",
       "      <th>[0.025</th>\n",
       "      <th>0.975]</th>\n",
       "    </tr>\n",
       "  </thead>\n",
       "  <tbody>\n",
       "    <tr>\n",
       "      <th>const</th>\n",
       "      <td>0.4227</td>\n",
       "      <td>0.311</td>\n",
       "      <td>1.360</td>\n",
       "      <td>0.174</td>\n",
       "      <td>-0.187</td>\n",
       "      <td>1.032</td>\n",
       "    </tr>\n",
       "    <tr>\n",
       "      <th>x1</th>\n",
       "      <td>14.4501</td>\n",
       "      <td>1.871</td>\n",
       "      <td>7.722</td>\n",
       "      <td>0.000</td>\n",
       "      <td>10.781</td>\n",
       "      <td>18.119</td>\n",
       "    </tr>\n",
       "  </tbody>\n",
       "</table>\n",
       "</div>"
      ],
      "text/plain": [
       "          coef  std err      t  P>|t|  [0.025  0.975]\n",
       "const   0.4227    0.311  1.360  0.174  -0.187   1.032\n",
       "x1     14.4501    1.871  7.722  0.000  10.781  18.119"
      ]
     },
     "execution_count": 16,
     "metadata": {},
     "output_type": "execute_result"
    }
   ],
   "source": [
    "results_as_html = results.summary().tables[1].as_html()\n",
    "pd.read_html(results_as_html, header=0, index_col=0)[0].round(4)"
   ]
  },
  {
   "cell_type": "code",
   "execution_count": 87,
   "metadata": {},
   "outputs": [],
   "source": [
    "X = valid_samples_train[['mean_cos_distance','min_cos_distance']].values\n",
    "X[:, 0] = 1-X[:, 0]\n",
    "y = valid_samples_train['count'].values\n",
    "X2 = sm.add_constant(X,prepend=True,has_constant=True)\n",
    "est = sm.OLS(y, X2)\n",
    "results = est.fit()\n",
    "# print(results.summary())"
   ]
  },
  {
   "cell_type": "code",
   "execution_count": 18,
   "metadata": {},
   "outputs": [
    {
     "data": {
      "text/html": [
       "<div>\n",
       "<style scoped>\n",
       "    .dataframe tbody tr th:only-of-type {\n",
       "        vertical-align: middle;\n",
       "    }\n",
       "\n",
       "    .dataframe tbody tr th {\n",
       "        vertical-align: top;\n",
       "    }\n",
       "\n",
       "    .dataframe thead th {\n",
       "        text-align: right;\n",
       "    }\n",
       "</style>\n",
       "<table border=\"1\" class=\"dataframe\">\n",
       "  <thead>\n",
       "    <tr style=\"text-align: right;\">\n",
       "      <th></th>\n",
       "      <th>coef</th>\n",
       "      <th>std err</th>\n",
       "      <th>t</th>\n",
       "      <th>P&gt;|t|</th>\n",
       "      <th>[0.025</th>\n",
       "      <th>0.975]</th>\n",
       "    </tr>\n",
       "  </thead>\n",
       "  <tbody>\n",
       "    <tr>\n",
       "      <th>const</th>\n",
       "      <td>-8.7433</td>\n",
       "      <td>1.938</td>\n",
       "      <td>-4.511</td>\n",
       "      <td>0.0</td>\n",
       "      <td>-12.544</td>\n",
       "      <td>-4.943</td>\n",
       "    </tr>\n",
       "    <tr>\n",
       "      <th>x1</th>\n",
       "      <td>12.3029</td>\n",
       "      <td>2.568</td>\n",
       "      <td>4.791</td>\n",
       "      <td>0.0</td>\n",
       "      <td>7.267</td>\n",
       "      <td>17.338</td>\n",
       "    </tr>\n",
       "    <tr>\n",
       "      <th>x2</th>\n",
       "      <td>17.3098</td>\n",
       "      <td>1.957</td>\n",
       "      <td>8.846</td>\n",
       "      <td>0.0</td>\n",
       "      <td>13.473</td>\n",
       "      <td>21.147</td>\n",
       "    </tr>\n",
       "  </tbody>\n",
       "</table>\n",
       "</div>"
      ],
      "text/plain": [
       "          coef  std err      t  P>|t|  [0.025  0.975]\n",
       "const  -8.7433    1.938 -4.511    0.0 -12.544  -4.943\n",
       "x1     12.3029    2.568  4.791    0.0   7.267  17.338\n",
       "x2     17.3098    1.957  8.846    0.0  13.473  21.147"
      ]
     },
     "execution_count": 18,
     "metadata": {},
     "output_type": "execute_result"
    }
   ],
   "source": [
    "results_as_html = results.summary().tables[1].as_html()\n",
    "pd.read_html(results_as_html, header=0, index_col=0)[0].round(4)"
   ]
  },
  {
   "cell_type": "code",
   "execution_count": 88,
   "metadata": {},
   "outputs": [
    {
     "data": {
      "text/plain": [
       "array([-8.74329771, 12.30290874, 17.30982684])"
      ]
     },
     "execution_count": 88,
     "metadata": {},
     "output_type": "execute_result"
    }
   ],
   "source": [
    "results.params"
   ]
  },
  {
   "cell_type": "code",
   "execution_count": 18,
   "metadata": {},
   "outputs": [],
   "source": [
    "def plot_anchors(anchors, ax):\n",
    "    x = [a[0]*100+100 for a in anchors]\n",
    "    y = [a[1]*100+100 for a in anchors]\n",
    "    sns.scatterplot(x=x,y=y, marker='^', color='red', ax=ax, s=150)\n",
    "    #hide x-axis\n",
    "    ax.get_xaxis().set_visible(False)\n",
    "    #hide y-axis \n",
    "    ax.get_yaxis().set_visible(False)"
   ]
  },
  {
   "cell_type": "code",
   "execution_count": 4,
   "metadata": {},
   "outputs": [],
   "source": [
    "x1 = (np.expand_dims(np.arange(-100,101), axis=0).repeat(201, axis=0))/100\n",
    "x2 = x1.T\n"
   ]
  },
  {
   "cell_type": "code",
   "execution_count": 3,
   "metadata": {},
   "outputs": [
    {
     "ename": "NameError",
     "evalue": "name 'plot_anchors' is not defined",
     "output_type": "error",
     "traceback": [
      "\u001b[1;31m---------------------------------------------------------------------------\u001b[0m",
      "\u001b[1;31mNameError\u001b[0m                                 Traceback (most recent call last)",
      "\u001b[1;32m<ipython-input-3-f7aee62a1fa7>\u001b[0m in \u001b[0;36m<module>\u001b[1;34m\u001b[0m\n\u001b[0;32m     52\u001b[0m     \u001b[0mvalues\u001b[0m\u001b[1;33m[\u001b[0m\u001b[0mvalues\u001b[0m\u001b[1;33m<\u001b[0m\u001b[1;36m0\u001b[0m\u001b[1;33m]\u001b[0m \u001b[1;33m=\u001b[0m \u001b[1;36m0\u001b[0m\u001b[1;33m\u001b[0m\u001b[1;33m\u001b[0m\u001b[0m\n\u001b[0;32m     53\u001b[0m     \u001b[0msns\u001b[0m\u001b[1;33m.\u001b[0m\u001b[0mheatmap\u001b[0m\u001b[1;33m(\u001b[0m\u001b[0mvalues\u001b[0m\u001b[1;33m,\u001b[0m \u001b[0mcmap\u001b[0m\u001b[1;33m=\u001b[0m\u001b[1;34m'binary'\u001b[0m\u001b[1;33m,\u001b[0m \u001b[0max\u001b[0m \u001b[1;33m=\u001b[0m \u001b[0maxes\u001b[0m\u001b[1;33m[\u001b[0m\u001b[1;36m0\u001b[0m\u001b[1;33m]\u001b[0m\u001b[1;33m)\u001b[0m\u001b[1;33m\u001b[0m\u001b[1;33m\u001b[0m\u001b[0m\n\u001b[1;32m---> 54\u001b[1;33m     \u001b[0mplot_anchors\u001b[0m\u001b[1;33m(\u001b[0m\u001b[0manchors\u001b[0m\u001b[1;33m,\u001b[0m \u001b[0maxes\u001b[0m\u001b[1;33m[\u001b[0m\u001b[1;36m0\u001b[0m\u001b[1;33m]\u001b[0m\u001b[1;33m)\u001b[0m\u001b[1;33m\u001b[0m\u001b[1;33m\u001b[0m\u001b[0m\n\u001b[0m\u001b[0;32m     55\u001b[0m \u001b[1;33m\u001b[0m\u001b[0m\n\u001b[0;32m     56\u001b[0m     \u001b[0manchors\u001b[0m \u001b[1;33m=\u001b[0m \u001b[1;33m[\u001b[0m\u001b[1;33m[\u001b[0m\u001b[1;33m-\u001b[0m\u001b[1;36m0.5\u001b[0m\u001b[1;33m,\u001b[0m \u001b[1;36m0.0\u001b[0m\u001b[1;33m]\u001b[0m\u001b[1;33m,\u001b[0m \u001b[1;33m[\u001b[0m\u001b[1;36m0.5\u001b[0m\u001b[1;33m,\u001b[0m \u001b[1;36m0.0\u001b[0m\u001b[1;33m]\u001b[0m\u001b[1;33m]\u001b[0m\u001b[1;33m\u001b[0m\u001b[1;33m\u001b[0m\u001b[0m\n",
      "\u001b[1;31mNameError\u001b[0m: name 'plot_anchors' is not defined"
     ]
    },
    {
     "data": {
      "image/png": "[encoded data removed]",
      "text/plain": [
       "<Figure size 864x216 with 5 Axes>"
      ]
     },
     "metadata": {
      "needs_background": "light"
     },
     "output_type": "display_data"
    }
   ],
   "source": [
    "x1 = (np.expand_dims(np.arange(-100,101), axis=0).repeat(201, axis=0))/100\n",
    "x2 = x1.T\n",
    "\n",
    "fig, axes = plt.subplots(nrows=1, ncols=4, figsize=(12,3))\n",
    "\n",
    "for row_, time_window in enumerate([1]):\n",
    "    data_dir = '2021-07-19'\n",
    "\n",
    "    method = 'scibert'\n",
    "    # method = 'tfidf'\n",
    "    # method = 'glove'\n",
    "\n",
    "    # time_window = 1\n",
    "    time_window = 6\n",
    "\n",
    "    contain_zero = False\n",
    "    # contain_zero = True\n",
    "\n",
    "    valid_samples = pd.read_csv(f'指标初步探索/valid_samples_{data_dir}_{method}_timewindow_{time_window}.csv',sep='\\t')\n",
    "\n",
    "    if not contain_zero:\n",
    "        valid_samples = valid_samples.loc[valid_samples['count']>0]\n",
    "\n",
    "    all_year_month = ['2020-01','2020-02','2020-03','2020-04','2020-05','2020-06','2020-07','2020-08','2020-09','2020-10',\n",
    "                     '2020-11','2020-12','2021-01','2021-02','2021-03','2021-04','2021-05']\n",
    "\n",
    "    year_months_train = all_year_month[1:-time_window-1]\n",
    "    year_months_test = all_year_month[-time_window-1:-time_window]\n",
    "\n",
    "    valid_samples_train = valid_samples.loc[valid_samples['publish_year_month'].isin(year_months_train)]\n",
    "    valid_samples_test = valid_samples.loc[valid_samples['publish_year_month'].isin(year_months_test)]\n",
    "\n",
    "    valid_samples_train = pd.concat([valid_samples_train, valid_samples_test], axis=0)\n",
    "\n",
    "    X = valid_samples_train[['mean_cos_distance','min_cos_distance']].values\n",
    "    X[:, 0] = 1-X[:, 0]\n",
    "    y = valid_samples_train['count'].values\n",
    "    X2 = sm.add_constant(X,prepend=True,has_constant=True)\n",
    "    est = sm.OLS(y, X2)\n",
    "    results = est.fit()\n",
    "\n",
    "    anchors = [[-0.0, 0.0]]\n",
    "    dists = []\n",
    "    for anchor in anchors:\n",
    "        dist = np.sqrt((x1-anchor[0])**2 + (x2-anchor[1])**2)\n",
    "        dist = np.expand_dims(dist, axis=-1)\n",
    "        dists.append(dist)\n",
    "    dists = np.concatenate(dists, axis=-1)\n",
    "    min_dist = dists.min(axis=-1)\n",
    "    mean_dist = 1-dists.mean(axis=-1)\n",
    "    values = mean_dist*results.params[1]+min_dist*results.params[2]+results.params[0]\n",
    "    values[values<0] = 0\n",
    "    sns.heatmap(values, cmap='binary', ax = axes[0])\n",
    "    plot_anchors(anchors, axes[0])\n",
    "    \n",
    "    anchors = [[-0.5, 0.0], [0.5, 0.0]]\n",
    "    dists = []\n",
    "    for anchor in anchors:\n",
    "        dist = np.sqrt((x1-anchor[0])**2 + (x2-anchor[1])**2)\n",
    "        dist = np.expand_dims(dist, axis=-1)\n",
    "        dists.append(dist)\n",
    "    dists = np.concatenate(dists, axis=-1)\n",
    "    min_dist = dists.min(axis=-1)\n",
    "    mean_dist = 1-dists.mean(axis=-1)\n",
    "    values = mean_dist*results.params[1]+min_dist*results.params[2]+results.params[0]\n",
    "    values[values<0] = 0\n",
    "    sns.heatmap(values, cmap='binary', ax = axes[1])\n",
    "    plot_anchors(anchors, axes[1])\n",
    "    \n",
    "    anchors = [[0.0, 0.5], [0.5, -0.5], [-0.5, -0.5]]\n",
    "    dists = []\n",
    "    for anchor in anchors:\n",
    "        dist = np.sqrt((x1-anchor[0])**2 + (x2-anchor[1])**2)\n",
    "        dist = np.expand_dims(dist, axis=-1)\n",
    "        dists.append(dist)\n",
    "    dists = np.concatenate(dists, axis=-1)\n",
    "    min_dist = dists.min(axis=-1)\n",
    "    mean_dist = 1-dists.mean(axis=-1)\n",
    "    values = mean_dist*results.params[1]+min_dist*results.params[2]+results.params[0]\n",
    "    values[values<0] = 0\n",
    "    sns.heatmap(values, cmap='binary', ax = axes[2])\n",
    "    plot_anchors(anchors, axes[2])\n",
    "    \n",
    "    anchors = [[np.random.uniform(-0.8,0.8,1)[0], np.random.uniform(-0.8,0.8,1)[0]] for i in range(10)]\n",
    "    dists = []\n",
    "    for anchor in anchors:\n",
    "        dist = np.sqrt((x1-anchor[0])**2 + (x2-anchor[1])**2)\n",
    "        dist = np.expand_dims(dist, axis=-1)\n",
    "        dists.append(dist)\n",
    "    dists = np.concatenate(dists, axis=-1)\n",
    "    min_dist = dists.min(axis=-1)\n",
    "    mean_dist = 1-dists.mean(axis=-1)\n",
    "    values = mean_dist*results.params[1]+min_dist*results.params[2]+results.params[0]\n",
    "    values[values<0] = 0\n",
    "    sns.heatmap(values, cmap='binary', ax = axes[3])\n",
    "    plot_anchors(anchors, axes[3])\n",
    "    \n",
    "fig.tight_layout()\n",
    "fig.savefig('metric_case.png', dpi=200)"
   ]
  },
  {
   "cell_type": "code",
   "execution_count": 6,
   "metadata": {},
   "outputs": [
    {
     "data": {
      "image/png": "[encoded data removed]",
      "text/plain": [
       "<Figure size 432x288 with 2 Axes>"
      ]
     },
     "metadata": {
      "needs_background": "light"
     },
     "output_type": "display_data"
    }
   ],
   "source": [
    "data_dir = '2021-07-19'\n",
    "\n",
    "method = 'scibert'\n",
    "# method = 'tfidf'\n",
    "# method = 'glove'\n",
    "\n",
    "# time_window = 1\n",
    "time_window = 6\n",
    "\n",
    "contain_zero = False\n",
    "# contain_zero = True\n",
    "\n",
    "valid_samples = pd.read_csv(f'指标初步探索/valid_samples_{data_dir}_{method}_timewindow_{time_window}.csv',sep='\\t')\n",
    "\n",
    "if not contain_zero:\n",
    "    valid_samples = valid_samples.loc[valid_samples['count']>0]\n",
    "\n",
    "all_year_month = ['2020-01','2020-02','2020-03','2020-04','2020-05','2020-06','2020-07','2020-08','2020-09','2020-10',\n",
    "                 '2020-11','2020-12','2021-01','2021-02','2021-03','2021-04','2021-05']\n",
    "\n",
    "year_months_train = all_year_month[1:-time_window-1]\n",
    "year_months_test = all_year_month[-time_window-1:-time_window]\n",
    "\n",
    "valid_samples_train = valid_samples.loc[valid_samples['publish_year_month'].isin(year_months_train)]\n",
    "valid_samples_test = valid_samples.loc[valid_samples['publish_year_month'].isin(year_months_test)]\n",
    "\n",
    "valid_samples_train = pd.concat([valid_samples_train, valid_samples_test], axis=0)\n",
    "\n",
    "X = valid_samples_train[['mean_cos_distance','min_cos_distance']].values\n",
    "X[:, 0] = 1-X[:, 0]\n",
    "y = valid_samples_train['count'].values\n",
    "X2 = sm.add_constant(X,prepend=True,has_constant=True)\n",
    "est = sm.OLS(y, X2)\n",
    "results = est.fit()\n",
    "anchors = [[-0.0, 0.0]]\n",
    "dists = []\n",
    "for anchor in anchors:\n",
    "    dist = np.sqrt((x1-anchor[0])**2 + (x2-anchor[1])**2)\n",
    "    dist = np.expand_dims(dist, axis=-1)\n",
    "    dists.append(dist)\n",
    "dists = np.concatenate(dists, axis=-1)\n",
    "min_dist = dists.min(axis=-1)\n",
    "mean_dist = 1-dists.mean(axis=-1)\n",
    "values = mean_dist*results.params[1]+min_dist*results.params[2]+results.params[0]\n",
    "values[values<0] = 0\n",
    "sns.heatmap(values, cmap='binary')\n",
    "x = [a[0]*100+100 for a in anchors]\n",
    "y = [a[1]*100+100 for a in anchors]\n",
    "sns.scatterplot(x=x,y=y, marker='^', color='red',s=150)\n",
    "#hide x-axis\n",
    "# plt.get_xaxis().set_visible(False)\n",
    "# #hide y-axis \n",
    "# plt.get_yaxis().set_visible(False)\n",
    "plt.axis('off')\n",
    "plt.tight_layout()\n",
    "plt.savefig(f'toy_metric/metric_case_1_time_window{time_window}.png', dpi=500)"
   ]
  },
  {
   "cell_type": "code",
   "execution_count": 8,
   "metadata": {},
   "outputs": [
    {
     "data": {
      "image/png": "[encoded data removed]",
      "text/plain": [
       "<Figure size 432x288 with 2 Axes>"
      ]
     },
     "metadata": {
      "needs_background": "light"
     },
     "output_type": "display_data"
    }
   ],
   "source": [
    "data_dir = '2021-07-19'\n",
    "\n",
    "method = 'scibert'\n",
    "# method = 'tfidf'\n",
    "# method = 'glove'\n",
    "\n",
    "# time_window = 1\n",
    "time_window = 6\n",
    "\n",
    "contain_zero = False\n",
    "# contain_zero = True\n",
    "\n",
    "valid_samples = pd.read_csv(f'指标初步探索/valid_samples_{data_dir}_{method}_timewindow_{time_window}.csv',sep='\\t')\n",
    "\n",
    "if not contain_zero:\n",
    "    valid_samples = valid_samples.loc[valid_samples['count']>0]\n",
    "\n",
    "all_year_month = ['2020-01','2020-02','2020-03','2020-04','2020-05','2020-06','2020-07','2020-08','2020-09','2020-10',\n",
    "                 '2020-11','2020-12','2021-01','2021-02','2021-03','2021-04','2021-05']\n",
    "\n",
    "year_months_train = all_year_month[1:-time_window-1]\n",
    "year_months_test = all_year_month[-time_window-1:-time_window]\n",
    "\n",
    "valid_samples_train = valid_samples.loc[valid_samples['publish_year_month'].isin(year_months_train)]\n",
    "valid_samples_test = valid_samples.loc[valid_samples['publish_year_month'].isin(year_months_test)]\n",
    "\n",
    "valid_samples_train = pd.concat([valid_samples_train, valid_samples_test], axis=0)\n",
    "\n",
    "X = valid_samples_train[['mean_cos_distance','min_cos_distance']].values\n",
    "X[:, 0] = 1-X[:, 0]\n",
    "y = valid_samples_train['count'].values\n",
    "X2 = sm.add_constant(X,prepend=True,has_constant=True)\n",
    "est = sm.OLS(y, X2)\n",
    "results = est.fit()\n",
    "anchors = [[-0.5, 0.0], [0.5, 0.0]]\n",
    "dists = []\n",
    "for anchor in anchors:\n",
    "    dist = np.sqrt((x1-anchor[0])**2 + (x2-anchor[1])**2)\n",
    "    dist = np.expand_dims(dist, axis=-1)\n",
    "    dists.append(dist)\n",
    "dists = np.concatenate(dists, axis=-1)\n",
    "min_dist = dists.min(axis=-1)\n",
    "mean_dist = 1-dists.mean(axis=-1)\n",
    "values = mean_dist*results.params[1]+min_dist*results.params[2]+results.params[0]\n",
    "values[values<0] = 0\n",
    "sns.heatmap(values, cmap='binary')\n",
    "x = [a[0]*100+100 for a in anchors]\n",
    "y = [a[1]*100+100 for a in anchors]\n",
    "sns.scatterplot(x=x,y=y, marker='^', color='red',s=150)\n",
    "#hide x-axis\n",
    "# plt.get_xaxis().set_visible(False)\n",
    "# #hide y-axis \n",
    "# plt.get_yaxis().set_visible(False)\n",
    "plt.axis('off')\n",
    "plt.tight_layout()\n",
    "plt.savefig(f'toy_metric/metric_case_2_time_window{time_window}.png', dpi=500)"
   ]
  },
  {
   "cell_type": "code",
   "execution_count": 10,
   "metadata": {},
   "outputs": [
    {
     "data": {
      "image/png": "[encoded data removed]",
      "text/plain": [
       "<Figure size 432x288 with 2 Axes>"
      ]
     },
     "metadata": {
      "needs_background": "light"
     },
     "output_type": "display_data"
    }
   ],
   "source": [
    "data_dir = '2021-07-19'\n",
    "\n",
    "method = 'scibert'\n",
    "# method = 'tfidf'\n",
    "# method = 'glove'\n",
    "\n",
    "# time_window = 1\n",
    "time_window = 6\n",
    "\n",
    "contain_zero = False\n",
    "# contain_zero = True\n",
    "\n",
    "valid_samples = pd.read_csv(f'指标初步探索/valid_samples_{data_dir}_{method}_timewindow_{time_window}.csv',sep='\\t')\n",
    "\n",
    "if not contain_zero:\n",
    "    valid_samples = valid_samples.loc[valid_samples['count']>0]\n",
    "\n",
    "all_year_month = ['2020-01','2020-02','2020-03','2020-04','2020-05','2020-06','2020-07','2020-08','2020-09','2020-10',\n",
    "                 '2020-11','2020-12','2021-01','2021-02','2021-03','2021-04','2021-05']\n",
    "\n",
    "year_months_train = all_year_month[1:-time_window-1]\n",
    "year_months_test = all_year_month[-time_window-1:-time_window]\n",
    "\n",
    "valid_samples_train = valid_samples.loc[valid_samples['publish_year_month'].isin(year_months_train)]\n",
    "valid_samples_test = valid_samples.loc[valid_samples['publish_year_month'].isin(year_months_test)]\n",
    "\n",
    "valid_samples_train = pd.concat([valid_samples_train, valid_samples_test], axis=0)\n",
    "\n",
    "X = valid_samples_train[['mean_cos_distance','min_cos_distance']].values\n",
    "X[:, 0] = 1-X[:, 0]\n",
    "y = valid_samples_train['count'].values\n",
    "X2 = sm.add_constant(X,prepend=True,has_constant=True)\n",
    "est = sm.OLS(y, X2)\n",
    "results = est.fit()\n",
    "anchors = [[0.0, 0.5], [0.5, -0.5], [-0.5, -0.5]]\n",
    "dists = []\n",
    "for anchor in anchors:\n",
    "    dist = np.sqrt((x1-anchor[0])**2 + (x2-anchor[1])**2)\n",
    "    dist = np.expand_dims(dist, axis=-1)\n",
    "    dists.append(dist)\n",
    "dists = np.concatenate(dists, axis=-1)\n",
    "min_dist = dists.min(axis=-1)\n",
    "mean_dist = 1-dists.mean(axis=-1)\n",
    "values = mean_dist*results.params[1]+min_dist*results.params[2]+results.params[0]\n",
    "values[values<0] = 0\n",
    "sns.heatmap(values, cmap='binary')\n",
    "x = [a[0]*100+100 for a in anchors]\n",
    "y = [a[1]*100+100 for a in anchors]\n",
    "sns.scatterplot(x=x,y=y, marker='^', color='red',s=150)\n",
    "#hide x-axis\n",
    "# plt.get_xaxis().set_visible(False)\n",
    "# #hide y-axis \n",
    "# plt.get_yaxis().set_visible(False)\n",
    "plt.axis('off')\n",
    "plt.tight_layout()\n",
    "plt.savefig(f'toy_metric/metric_case_3_time_window{time_window}.png', dpi=500)"
   ]
  },
  {
   "cell_type": "code",
   "execution_count": 24,
   "metadata": {},
   "outputs": [],
   "source": [
    "import random"
   ]
  },
  {
   "cell_type": "code",
   "execution_count": 79,
   "metadata": {},
   "outputs": [],
   "source": [
    "anchors = [[random.Random(i).uniform(-0.8,0.8), random.Random(i+1).uniform(-0.8,0.8)] for i in  random.Random(0).sample(range(100),10)]"
   ]
  },
  {
   "cell_type": "code",
   "execution_count": 81,
   "metadata": {},
   "outputs": [
    {
     "data": {
      "image/png": "[encoded data removed]",
      "text/plain": [
       "<Figure size 432x288 with 2 Axes>"
      ]
     },
     "metadata": {
      "needs_background": "light"
     },
     "output_type": "display_data"
    }
   ],
   "source": [
    "data_dir = '2021-07-19'\n",
    "\n",
    "method = 'scibert'\n",
    "# method = 'tfidf'\n",
    "# method = 'glove'\n",
    "\n",
    "time_window = 1\n",
    "# time_window = 6\n",
    "\n",
    "contain_zero = False\n",
    "# contain_zero = True\n",
    "\n",
    "valid_samples = pd.read_csv(f'指标初步探索/valid_samples_{data_dir}_{method}_timewindow_{time_window}.csv',sep='\\t')\n",
    "\n",
    "if not contain_zero:\n",
    "    valid_samples = valid_samples.loc[valid_samples['count']>0]\n",
    "\n",
    "all_year_month = ['2020-01','2020-02','2020-03','2020-04','2020-05','2020-06','2020-07','2020-08','2020-09','2020-10',\n",
    "                 '2020-11','2020-12','2021-01','2021-02','2021-03','2021-04','2021-05']\n",
    "\n",
    "year_months_train = all_year_month[1:-time_window-1]\n",
    "year_months_test = all_year_month[-time_window-1:-time_window]\n",
    "\n",
    "valid_samples_train = valid_samples.loc[valid_samples['publish_year_month'].isin(year_months_train)]\n",
    "valid_samples_test = valid_samples.loc[valid_samples['publish_year_month'].isin(year_months_test)]\n",
    "\n",
    "valid_samples_train = pd.concat([valid_samples_train, valid_samples_test], axis=0)\n",
    "\n",
    "X = valid_samples_train[['mean_cos_distance','min_cos_distance']].values\n",
    "X[:, 0] = 1-X[:, 0]\n",
    "y = valid_samples_train['count'].values\n",
    "X2 = sm.add_constant(X,prepend=True,has_constant=True)\n",
    "est = sm.OLS(y, X2)\n",
    "results = est.fit()\n",
    "dists = []\n",
    "for anchor in anchors:\n",
    "    dist = np.sqrt((x1-anchor[0])**2 + (x2-anchor[1])**2)\n",
    "    dist = np.expand_dims(dist, axis=-1)\n",
    "    dists.append(dist)\n",
    "dists = np.concatenate(dists, axis=-1)\n",
    "min_dist = dists.min(axis=-1)\n",
    "mean_dist = 1-dists.mean(axis=-1)\n",
    "values = mean_dist*results.params[1]+min_dist*results.params[2]+results.params[0]\n",
    "values[values<0] = 0\n",
    "sns.heatmap(values, cmap='binary')\n",
    "x = [a[0]*100+100 for a in anchors]\n",
    "y = [a[1]*100+100 for a in anchors]\n",
    "sns.scatterplot(x=x,y=y, marker='^', color='red',s=150)\n",
    "#hide x-axis\n",
    "# plt.get_xaxis().set_visible(False)\n",
    "# #hide y-axis \n",
    "# plt.get_yaxis().set_visible(False)\n",
    "plt.axis('off')\n",
    "plt.tight_layout()\n",
    "plt.savefig(f'toy_metric/metric_case_10_time_window{time_window}.png', dpi=500)"
   ]
  }
 ],
 "metadata": {
  "kernelspec": {
   "display_name": "Python 3",
   "language": "python",
   "name": "python3"
  },
  "language_info": {
   "codemirror_mode": {
    "name": "ipython",
    "version": 3
   },
   "file_extension": ".py",
   "mimetype": "text/x-python",
   "name": "python",
   "nbconvert_exporter": "python",
   "pygments_lexer": "ipython3",
   "version": "3.7.7"
  }
 },
 "nbformat": 4,
 "nbformat_minor": 4
}
