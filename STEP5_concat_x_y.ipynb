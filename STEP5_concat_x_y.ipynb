{
 "cells": [
  {
   "cell_type": "code",
   "execution_count": 1,
   "metadata": {},
   "outputs": [],
   "source": [
    "import pandas as pd\n",
    "import json\n",
    "import os\n",
    "from tqdm import tqdm"
   ]
  },
  {
   "cell_type": "markdown",
   "metadata": {},
   "source": [
    "#### paper dist to higly-impact papers (in last month)"
   ]
  },
  {
   "cell_type": "code",
   "execution_count": 2,
   "metadata": {},
   "outputs": [],
   "source": [
    "data_dir = '2021-07-19'\n",
    "# method = 'scibert'\n",
    "method = 'tfidf'\n",
    "# method = 'glove'\n",
    "# citiing_window = 1\n",
    "citiing_window = 6"
   ]
  },
  {
   "cell_type": "code",
   "execution_count": 3,
   "metadata": {},
   "outputs": [],
   "source": [
    "paper_self_info = pd.read_csv(f'paper_self_info_{data_dir}_{method}.csv',\n",
    "           dtype={'citing_paper':'object','cord_uid':'object',\n",
    "#                   'citing_year':'object','citing_month':'object','citing_date':'object',\n",
    "                  'citing_year_month':'object',\n",
    "                  'min_cos_distance':'float','mean_cos_distance':'float',\n",
    "                })[['cord_uid','citing_paper','citing_year_month','min_cos_distance','mean_cos_distance']]"
   ]
  },
  {
   "cell_type": "code",
   "execution_count": 4,
   "metadata": {},
   "outputs": [],
   "source": [
    "paper_self_info = paper_self_info.rename(columns={'cord_uid':'uid','citing_paper':'title','citing_year_month':'publish_year_month'})"
   ]
  },
  {
   "cell_type": "code",
   "execution_count": 5,
   "metadata": {},
   "outputs": [
    {
     "data": {
      "text/html": [
       "<div>\n",
       "<style scoped>\n",
       "    .dataframe tbody tr th:only-of-type {\n",
       "        vertical-align: middle;\n",
       "    }\n",
       "\n",
       "    .dataframe tbody tr th {\n",
       "        vertical-align: top;\n",
       "    }\n",
       "\n",
       "    .dataframe thead th {\n",
       "        text-align: right;\n",
       "    }\n",
       "</style>\n",
       "<table border=\"1\" class=\"dataframe\">\n",
       "  <thead>\n",
       "    <tr style=\"text-align: right;\">\n",
       "      <th></th>\n",
       "      <th>uid</th>\n",
       "      <th>title</th>\n",
       "      <th>publish_year_month</th>\n",
       "      <th>min_cos_distance</th>\n",
       "      <th>mean_cos_distance</th>\n",
       "    </tr>\n",
       "  </thead>\n",
       "  <tbody>\n",
       "    <tr>\n",
       "      <th>0</th>\n",
       "      <td>6jbjwl8j</td>\n",
       "      <td>Hypoxia-induced amniotic fluid stem cell secre...</td>\n",
       "      <td>2021-01</td>\n",
       "      <td>0.855313</td>\n",
       "      <td>0.952014</td>\n",
       "    </tr>\n",
       "    <tr>\n",
       "      <th>1</th>\n",
       "      <td>yz3od5m7</td>\n",
       "      <td>Impfbereitschaft unter intensivmedizinischem P...</td>\n",
       "      <td>2021-02</td>\n",
       "      <td>0.950205</td>\n",
       "      <td>0.997864</td>\n",
       "    </tr>\n",
       "    <tr>\n",
       "      <th>2</th>\n",
       "      <td>8rdo9wgc</td>\n",
       "      <td>Use of machine learning and artificial intelli...</td>\n",
       "      <td>2020-06</td>\n",
       "      <td>0.757355</td>\n",
       "      <td>0.866406</td>\n",
       "    </tr>\n",
       "    <tr>\n",
       "      <th>3</th>\n",
       "      <td>npcz4qr2</td>\n",
       "      <td>Emerging COVID‐19 vaccines: A rheumatology per...</td>\n",
       "      <td>2021-02</td>\n",
       "      <td>0.843224</td>\n",
       "      <td>0.968620</td>\n",
       "    </tr>\n",
       "    <tr>\n",
       "      <th>4</th>\n",
       "      <td>k0xi1agw</td>\n",
       "      <td>Scientific societies fostering inclusivity thr...</td>\n",
       "      <td>2020-11</td>\n",
       "      <td>0.905278</td>\n",
       "      <td>0.962720</td>\n",
       "    </tr>\n",
       "  </tbody>\n",
       "</table>\n",
       "</div>"
      ],
      "text/plain": [
       "        uid                                              title  \\\n",
       "0  6jbjwl8j  Hypoxia-induced amniotic fluid stem cell secre...   \n",
       "1  yz3od5m7  Impfbereitschaft unter intensivmedizinischem P...   \n",
       "2  8rdo9wgc  Use of machine learning and artificial intelli...   \n",
       "3  npcz4qr2  Emerging COVID‐19 vaccines: A rheumatology per...   \n",
       "4  k0xi1agw  Scientific societies fostering inclusivity thr...   \n",
       "\n",
       "  publish_year_month  min_cos_distance  mean_cos_distance  \n",
       "0            2021-01          0.855313           0.952014  \n",
       "1            2021-02          0.950205           0.997864  \n",
       "2            2020-06          0.757355           0.866406  \n",
       "3            2021-02          0.843224           0.968620  \n",
       "4            2020-11          0.905278           0.962720  "
      ]
     },
     "execution_count": 5,
     "metadata": {},
     "output_type": "execute_result"
    }
   ],
   "source": [
    "paper_self_info.head(5)"
   ]
  },
  {
   "cell_type": "code",
   "execution_count": 6,
   "metadata": {},
   "outputs": [],
   "source": [
    "# paper_self_info.set_index('uid',inplace=True)"
   ]
  },
  {
   "cell_type": "markdown",
   "metadata": {},
   "source": [
    "#### global info of each month"
   ]
  },
  {
   "cell_type": "code",
   "execution_count": 7,
   "metadata": {},
   "outputs": [],
   "source": [
    "domain_global_info = pd.read_csv(f'global_info_{data_dir}_{method}.csv')"
   ]
  },
  {
   "cell_type": "code",
   "execution_count": 8,
   "metadata": {},
   "outputs": [],
   "source": [
    "domain_global_info.set_index('year_month',inplace=True)"
   ]
  },
  {
   "cell_type": "markdown",
   "metadata": {},
   "source": [
    "#### paper being cited count each month"
   ]
  },
  {
   "cell_type": "code",
   "execution_count": 9,
   "metadata": {},
   "outputs": [],
   "source": [
    "cited_rank_papers_dict = {}\n",
    "for file in os.listdir('../scibert_encoded_papers/cited_rank'):\n",
    "    if file.endswith(f'_{data_dir}.tsv'):\n",
    "        month = file.split('.')[0].split('_')[-2]\n",
    "        df = pd.read_csv(os.path.join('../scibert_encoded_papers/cited_rank',file),sep='\\t')\n",
    "        cited_rank_papers_dict[str(month)] = df.loc[~df['uid'].isna()].set_index('uid')"
   ]
  },
  {
   "cell_type": "code",
   "execution_count": 10,
   "metadata": {},
   "outputs": [],
   "source": [
    "# cited_rank_papers_dict"
   ]
  },
  {
   "cell_type": "markdown",
   "metadata": {},
   "source": [
    "#### concatenate"
   ]
  },
  {
   "cell_type": "code",
   "execution_count": 11,
   "metadata": {},
   "outputs": [
    {
     "name": "stderr",
     "output_type": "stream",
     "text": [
      "0it [00:00, ?it/s]c:\\users\\86187\\appdata\\local\\programs\\python\\python37\\lib\\site-packages\\ipykernel_launcher.py:28: SettingWithCopyWarning: \n",
      "A value is trying to be set on a copy of a slice from a DataFrame\n",
      "\n",
      "See the caveats in the documentation: https://pandas.pydata.org/pandas-docs/stable/user_guide/indexing.html#returning-a-view-versus-a-copy\n",
      "47130it [00:17, 2710.36it/s]\n"
     ]
    }
   ],
   "source": [
    "valid_samples = []\n",
    "year_months = ['2020-01','2020-02','2020-03','2020-04','2020-05','2020-06','2020-07','2020-08',\n",
    "               '2020-09','2020-10','2020-11','2020-12','2021-01','2021-02','2021-03','2021-04','2021-05','2021-06']\n",
    "paper_self_info = paper_self_info.loc[paper_self_info['publish_year_month'].isin(year_months)]\n",
    "\n",
    "for row_idx,paper_info in tqdm(paper_self_info.iterrows()):\n",
    "#     print(uid,paper_info)\n",
    "#     break\n",
    "    year_month = paper_info['publish_year_month']\n",
    "    year_month_idx = year_months.index(year_month)\n",
    "    if year_month_idx <= 1 or year_month_idx > len(year_months)-citiing_window-1:\n",
    "        continue\n",
    "    # 上个月\n",
    "    prev_year_month = year_months[year_month_idx-1]\n",
    "    # 上个月的global info\n",
    "    global_info = domain_global_info.loc[prev_year_month]\n",
    "    \n",
    "    # citing window cnt\n",
    "    cnt = 0\n",
    "    cited_count_next_month = None\n",
    "    for offset in range(1,citiing_window+1):\n",
    "        next_year_month = year_months[year_month_idx+offset]\n",
    "        # count of being cited next month\n",
    "         # may be zero, resulting \"key not found\"\n",
    "        try:\n",
    "            cited_count_next_month = cited_rank_papers_dict[next_year_month].loc[paper_info['uid']]\n",
    "            cnt+=cited_count_next_month['count']\n",
    "            cited_count_next_month['count'] = cnt\n",
    "        except:\n",
    "            continue\n",
    "    if cited_count_next_month is not None:\n",
    "#         print(type(cited_count_next_month))\n",
    "#         print(cited_count_next_month)\n",
    "        valid_samples.append(pd.concat([paper_info,global_info,cited_count_next_month]))\n",
    "    else:\n",
    "        valid_samples.append(pd.concat([paper_info,global_info,pd.Series(data=[paper_info['title'],0],index=['cited_paper','count'])]))"
   ]
  },
  {
   "cell_type": "code",
   "execution_count": 12,
   "metadata": {},
   "outputs": [],
   "source": [
    "valid_samples = pd.concat(valid_samples,axis=1).transpose()"
   ]
  },
  {
   "cell_type": "code",
   "execution_count": 13,
   "metadata": {},
   "outputs": [
    {
     "data": {
      "text/plain": [
       "174.0"
      ]
     },
     "execution_count": 13,
     "metadata": {},
     "output_type": "execute_result"
    }
   ],
   "source": [
    "valid_samples['count'].max()"
   ]
  },
  {
   "cell_type": "code",
   "execution_count": 14,
   "metadata": {},
   "outputs": [],
   "source": [
    "valid_samples = valid_samples[['uid','title', 'publish_year_month', 'min_cos_distance', 'mean_cos_distance',\n",
    "       'max_mean', 'mean_mean', 'min_mean', 'max_min', 'mean_min', 'min_min','count']].rename(columns={'title':'paper_name'})"
   ]
  },
  {
   "cell_type": "code",
   "execution_count": 15,
   "metadata": {},
   "outputs": [],
   "source": [
    "# valid_samples.loc[valid_samples['count']>0].shape"
   ]
  },
  {
   "cell_type": "code",
   "execution_count": 16,
   "metadata": {},
   "outputs": [],
   "source": [
    "valid_samples.to_csv(f'valid_samples_{data_dir}_{method}_timewindow_{citiing_window}.csv',sep='\\t',index=False)"
   ]
  },
  {
   "cell_type": "code",
   "execution_count": null,
   "metadata": {},
   "outputs": [],
   "source": []
  }
 ],
 "metadata": {
  "kernelspec": {
   "display_name": "Python 3",
   "language": "python",
   "name": "python3"
  },
  "language_info": {
   "codemirror_mode": {
    "name": "ipython",
    "version": 3
   },
   "file_extension": ".py",
   "mimetype": "text/x-python",
   "name": "python",
   "nbconvert_exporter": "python",
   "pygments_lexer": "ipython3",
   "version": "3.7.7"
  }
 },
 "nbformat": 4,
 "nbformat_minor": 4
}
