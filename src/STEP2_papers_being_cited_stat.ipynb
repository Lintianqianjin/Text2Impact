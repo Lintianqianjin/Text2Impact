{
 "cells": [
  {
   "cell_type": "code",
   "execution_count": 1,
   "metadata": {},
   "outputs": [],
   "source": [
    "import pandas as pd\n",
    "pd.options.mode.chained_assignment = None\n",
    "import numpy as np\n",
    "from matplotlib import pyplot as plt"
   ]
  },
  {
   "cell_type": "code",
   "execution_count": 2,
   "metadata": {},
   "outputs": [],
   "source": [
    "data_dir = '2022-06-02'"
   ]
  },
  {
   "cell_type": "code",
   "execution_count": 3,
   "metadata": {},
   "outputs": [],
   "source": [
    "citation_net = pd.read_csv(f'citation_net_{data_dir}.tsv',sep='\\t'\n",
    "#                            ,dtype={'citing_year':'object','citing_month':'object','citing_date':'object'}\n",
    "                )"
   ]
  },
  {
   "cell_type": "code",
   "execution_count": 4,
   "metadata": {},
   "outputs": [],
   "source": [
    "citation_net['time'] = pd.to_datetime(citation_net['time'],format=\"%Y-%m-%d\")"
   ]
  },
  {
   "cell_type": "code",
   "execution_count": 5,
   "metadata": {},
   "outputs": [],
   "source": [
    "def count_sub_df(sub_df):\n",
    "    return pd.Series([sub_df['cited_uid'].values[0],sub_df.shape[0]],index=['uid','count'])"
   ]
  },
  {
   "cell_type": "code",
   "execution_count": 6,
   "metadata": {},
   "outputs": [],
   "source": [
    "def month_rank_cited(year,month,df):\n",
    "    higher_cited = df.loc[(df['time'].dt.month==int(month)) & (df['time'].dt.year==int(year))].groupby('cited_paper').apply(count_sub_df).sort_values('count',ascending=False)\n",
    "    return higher_cited.reset_index()"
   ]
  },
  {
   "cell_type": "code",
   "execution_count": 7,
   "metadata": {},
   "outputs": [],
   "source": [
    "def top_cited(rank_df):\n",
    "    excess_one_count = rank_df.loc[rank_df['count']>=1].shape[0]\n",
    "    print(f\"excess_one_count {excess_one_count}\")\n",
    "    min_cited_cnt = rank_df.at[excess_one_count//100,'count']\n",
    "    print(f\"min_cited_cnt {min_cited_cnt}\")\n",
    "#     print(rank_df['count'])\n",
    "    return rank_df.loc[rank_df['count']>=min_cited_cnt]"
   ]
  },
  {
   "cell_type": "code",
   "execution_count": 10,
   "metadata": {},
   "outputs": [
    {
     "data": {
      "text/plain": [
       "Timestamp('2022-10-15 00:00:00')"
      ]
     },
     "execution_count": 10,
     "metadata": {},
     "output_type": "execute_result"
    }
   ],
   "source": [
    "citation_net['time'].max()"
   ]
  },
  {
   "cell_type": "code",
   "execution_count": 13,
   "metadata": {},
   "outputs": [
    {
     "name": "stdout",
     "output_type": "stream",
     "text": [
      "2020-01\n",
      "2020-02\n",
      "2020-03\n",
      "2020-04\n",
      "2020-05\n",
      "2020-06\n",
      "2020-07\n",
      "2020-08\n",
      "2020-09\n",
      "2020-10\n",
      "2020-11\n",
      "2020-12\n",
      "2021-01\n",
      "2021-02\n",
      "2021-03\n",
      "2021-04\n",
      "2021-05\n",
      "2021-06\n",
      "2021-07\n",
      "2021-08\n",
      "2021-09\n",
      "2021-10\n",
      "2021-11\n",
      "2021-12\n",
      "2022-01\n",
      "2022-02\n",
      "2022-03\n",
      "2022-04\n"
     ]
    }
   ],
   "source": [
    "# 被引排序\n",
    "\n",
    "# max new publish time is 2022-10, citation-window-size=6months, so year_month range is 2020-01 to 2022-04\n",
    "cited_rank_each_month = {}\n",
    "for year_month in ['2020-01','2020-02','2020-03','2020-04','2020-05','2020-06','2020-07','2020-08','2020-09','2020-10',\n",
    "                 '2020-11','2020-12','2021-01','2021-02','2021-03','2021-04','2021-05','2021-06','2021-07','2021-08','2021-09','2021-10',\n",
    "                 '2021-11','2021-12','2022-01','2022-02','2022-03','2022-04']:\n",
    "    print(year_month)\n",
    "    year, month = year_month.split('-')\n",
    "    cited_rank_paper = month_rank_cited(year,month,citation_net)\n",
    "    cited_rank_each_month[year_month] = cited_rank_paper"
   ]
  },
  {
   "cell_type": "code",
   "execution_count": 9,
   "metadata": {},
   "outputs": [],
   "source": [
    "# pmc_metadata = pd.read_csv('valid_metadata_0530.csv',sep='\\t')\n",
    "# pmc_metadata['publish_time'] = pd.to_datetime(pmc_metadata['publish_time'],format=\"%Y-%m-%d\")"
   ]
  },
  {
   "cell_type": "code",
   "execution_count": 10,
   "metadata": {},
   "outputs": [],
   "source": [
    "# for year_month in ['2020-01','2020-02','2020-03','2020-04','2020-05','2020-06','2020-07','2020-08','2020-09','2020-10',\n",
    "#                  '2020-11','2020-12','2021-01','2021-02','2021-03','2021-04'\n",
    "#              ]:\n",
    "#     year, month = year_month.split('-')\n",
    "#     tmp_paper = pmc_metadata.loc[(pmc_metadata['publish_time'].dt.month==int(month)) & (pmc_metadata['publish_time'].dt.year==int(year))]\n",
    "#     tmp_paper = tmp_paper[['title','cord_uid']]\n",
    "#     tmp_paper = tmp_paper.rename(columns={'cord_uid':'uid','title':'cited_paper'})\n",
    "#     tmp_paper['count'] = 0\n",
    "#     tmp_paper = tmp_paper.loc[~(tmp_paper['uid'].isin(set(cited_rank_each_month[year_month]['uid'])))]\n",
    "#     cited_rank_each_month[year_month] = pd.concat([cited_rank_each_month[year_month], tmp_paper],axis=0).reset_index(drop=True)"
   ]
  },
  {
   "cell_type": "code",
   "execution_count": 15,
   "metadata": {},
   "outputs": [],
   "source": [
    "# number of being cited\n",
    "for index,(year_month,df) in enumerate(cited_rank_each_month.items()):\n",
    "    df.to_csv(f'cited_rank/cited_rank_paper_{year_month}_{data_dir}.tsv',sep='\\t',index=False)"
   ]
  },
  {
   "cell_type": "code",
   "execution_count": 16,
   "metadata": {},
   "outputs": [
    {
     "name": "stdout",
     "output_type": "stream",
     "text": [
      "2020-01\n",
      "excess_one_count 615\n",
      "min_cited_cnt 3.0\n",
      "2020-02\n",
      "excess_one_count 588\n",
      "min_cited_cnt 26.0\n",
      "2020-03\n",
      "excess_one_count 1668\n",
      "min_cited_cnt 14.0\n",
      "2020-04\n",
      "excess_one_count 6017\n",
      "min_cited_cnt 12.0\n",
      "2020-05\n",
      "excess_one_count 11052\n",
      "min_cited_cnt 11.0\n",
      "2020-06\n",
      "excess_one_count 13925\n",
      "min_cited_cnt 10.0\n",
      "2020-07\n",
      "excess_one_count 15185\n",
      "min_cited_cnt 8.0\n",
      "2020-08\n",
      "excess_one_count 18329\n",
      "min_cited_cnt 7.0\n",
      "2020-09\n",
      "excess_one_count 20671\n",
      "min_cited_cnt 7.0\n",
      "2020-10\n",
      "excess_one_count 22704\n",
      "min_cited_cnt 6.0\n",
      "2020-11\n",
      "excess_one_count 21477\n",
      "min_cited_cnt 5.0\n",
      "2020-12\n",
      "excess_one_count 22931\n",
      "min_cited_cnt 5.0\n",
      "2021-01\n",
      "excess_one_count 30284\n",
      "min_cited_cnt 5.0\n",
      "2021-02\n",
      "excess_one_count 31603\n",
      "min_cited_cnt 4.0\n",
      "2021-03\n",
      "excess_one_count 40036\n",
      "min_cited_cnt 5.0\n",
      "2021-04\n",
      "excess_one_count 36115\n",
      "min_cited_cnt 4.0\n",
      "2021-05\n",
      "excess_one_count 42039\n",
      "min_cited_cnt 4.0\n",
      "2021-06\n",
      "excess_one_count 67583\n",
      "min_cited_cnt 5.0\n",
      "2021-07\n",
      "excess_one_count 109166\n",
      "min_cited_cnt 8.0\n",
      "2021-08\n",
      "excess_one_count 109088\n",
      "min_cited_cnt 7.0\n",
      "2021-09\n",
      "excess_one_count 115152\n",
      "min_cited_cnt 7.0\n",
      "2021-10\n",
      "excess_one_count 117672\n",
      "min_cited_cnt 7.0\n",
      "2021-11\n",
      "excess_one_count 112968\n",
      "min_cited_cnt 7.0\n",
      "2021-12\n",
      "excess_one_count 105578\n",
      "min_cited_cnt 6.0\n",
      "2022-01\n",
      "excess_one_count 124296\n",
      "min_cited_cnt 6.0\n",
      "2022-02\n",
      "excess_one_count 125058\n",
      "min_cited_cnt 6.0\n",
      "2022-03\n",
      "excess_one_count 141475\n",
      "min_cited_cnt 5.0\n",
      "2022-04\n",
      "excess_one_count 130000\n",
      "min_cited_cnt 5.0\n"
     ]
    }
   ],
   "source": [
    "top_cited_each_month = {}\n",
    "for year_month in ['2020-01','2020-02','2020-03','2020-04','2020-05','2020-06','2020-07','2020-08','2020-09','2020-10',\n",
    "                 '2020-11','2020-12','2021-01','2021-02','2021-03','2021-04','2021-05','2021-06','2021-07','2021-08','2021-09','2021-10',\n",
    "                 '2021-11','2021-12','2022-01','2022-02','2022-03','2022-04']:\n",
    "    print(year_month)\n",
    "    tmp_top_paper = top_cited(cited_rank_each_month[year_month])\n",
    "    top_cited_each_month[year_month] = tmp_top_paper"
   ]
  },
  {
   "cell_type": "code",
   "execution_count": 18,
   "metadata": {},
   "outputs": [],
   "source": [
    "# save highly-impact papers\n",
    "for year_month,df in top_cited_each_month.items():\n",
    "    df.to_csv(f'top_cited/top_1_percente_{year_month}_{data_dir}.tsv',sep='\\t',index=False)"
   ]
  },
  {
   "cell_type": "code",
   "execution_count": null,
   "metadata": {},
   "outputs": [],
   "source": []
  }
 ],
 "metadata": {
  "kernelspec": {
   "display_name": "Python 3.8.12 ('base')",
   "language": "python",
   "name": "python3"
  },
  "language_info": {
   "codemirror_mode": {
    "name": "ipython",
    "version": 3
   },
   "file_extension": ".py",
   "mimetype": "text/x-python",
   "name": "python",
   "nbconvert_exporter": "python",
   "pygments_lexer": "ipython3",
   "version": "3.8.12"
  },
  "vscode": {
   "interpreter": {
    "hash": "af8259ad5c1c9c7a69bd6ea085234cf8fd3a6a37a71ca551828b314c4d89b0ad"
   }
  }
 },
 "nbformat": 4,
 "nbformat_minor": 4
}
