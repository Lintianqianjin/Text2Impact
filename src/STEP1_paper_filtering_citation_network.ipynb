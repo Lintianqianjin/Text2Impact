{
 "cells": [
  {
   "cell_type": "code",
   "execution_count": 1,
   "metadata": {},
   "outputs": [],
   "source": [
    "import json\n",
    "import pandas as pd\n",
    "pd.options.mode.chained_assignment = None\n",
    "from tqdm import tqdm\n",
    "import numpy as np\n",
    "import regex as re\n",
    "import matplotlib.pyplot as plt"
   ]
  },
  {
   "cell_type": "code",
   "execution_count": 2,
   "metadata": {},
   "outputs": [],
   "source": [
    "data_dir = '2022-06-02'"
   ]
  },
  {
   "cell_type": "code",
   "execution_count": 3,
   "metadata": {},
   "outputs": [],
   "source": [
    "all_metadata = pd.read_csv(f\"../{data_dir}/metadata.csv\",low_memory=False)"
   ]
  },
  {
   "cell_type": "code",
   "execution_count": 4,
   "metadata": {},
   "outputs": [
    {
     "data": {
      "text/plain": [
       "(1056660, 19)"
      ]
     },
     "execution_count": 4,
     "metadata": {},
     "output_type": "execute_result"
    }
   ],
   "source": [
    "all_metadata.shape"
   ]
  },
  {
   "cell_type": "code",
   "execution_count": 1,
   "metadata": {},
   "outputs": [
    {
     "data": {
      "text/plain": [
       "258866"
      ]
     },
     "execution_count": 1,
     "metadata": {},
     "output_type": "execute_result"
    }
   ],
   "source": [
    "1056660-797794"
   ]
  },
  {
   "cell_type": "code",
   "execution_count": 5,
   "metadata": {},
   "outputs": [
    {
     "data": {
      "text/plain": [
       "54994"
      ]
     },
     "execution_count": 5,
     "metadata": {},
     "output_type": "execute_result"
    }
   ],
   "source": [
    "from collections import Counter\n",
    "len(Counter(all_metadata['journal']))"
   ]
  },
  {
   "cell_type": "code",
   "execution_count": 6,
   "metadata": {},
   "outputs": [],
   "source": [
    "# de-duplicated cord_uid\n",
    "all_metadata = all_metadata.drop_duplicates('cord_uid',keep='first')"
   ]
  },
  {
   "cell_type": "code",
   "execution_count": 7,
   "metadata": {},
   "outputs": [],
   "source": [
    "all_metadata['title'] = all_metadata['title'].str.replace(r'[\\t\\r\"“.．#]',' ', regex=True).str.strip()\n",
    "all_metadata['cord_uid'] = all_metadata['cord_uid'].str.replace(r'[\\t\\r\"“.．#]',' ', regex=True).str.strip()\n",
    "all_metadata['source_x'] = all_metadata['source_x'].str.replace(r'[\\t\\r\"“.．#]',' ', regex=True).str.strip()\n",
    "all_metadata['publish_time'] = all_metadata['publish_time'].str.replace(r'[\\t\\r\"“.．#]',' ', regex=True).str.strip()"
   ]
  },
  {
   "cell_type": "code",
   "execution_count": 8,
   "metadata": {},
   "outputs": [],
   "source": [
    "# de-duplicated title\n",
    "all_metadata = all_metadata.drop_duplicates('title',keep='first')"
   ]
  },
  {
   "cell_type": "code",
   "execution_count": 9,
   "metadata": {},
   "outputs": [
    {
     "data": {
      "text/plain": [
       "(797794, 19)"
      ]
     },
     "execution_count": 9,
     "metadata": {},
     "output_type": "execute_result"
    }
   ],
   "source": [
    "all_metadata.shape"
   ]
  },
  {
   "cell_type": "code",
   "execution_count": 10,
   "metadata": {},
   "outputs": [],
   "source": [
    "# metadata_title_time_dict = dict(all_metadata[['title','publish_time']].values)\n",
    "metadata_title_uid_dict = dict(all_metadata[['title','cord_uid']].values)"
   ]
  },
  {
   "cell_type": "code",
   "execution_count": 11,
   "metadata": {},
   "outputs": [],
   "source": [
    "# paper has pmc json file\n",
    "pmc_metadata = all_metadata.loc[~(all_metadata['pmc_json_files'].isna())]"
   ]
  },
  {
   "cell_type": "code",
   "execution_count": 12,
   "metadata": {},
   "outputs": [],
   "source": [
    "pmc_metadata['publish_time'] = pd.to_datetime(pmc_metadata['publish_time'],format=\"%Y-%m-%d\")"
   ]
  },
  {
   "cell_type": "code",
   "execution_count": 13,
   "metadata": {},
   "outputs": [
    {
     "data": {
      "text/plain": [
       "'the number of papers: 234768'"
      ]
     },
     "execution_count": 13,
     "metadata": {},
     "output_type": "execute_result"
    }
   ],
   "source": [
    "f\"the number of papers: {pmc_metadata.shape[0]}\""
   ]
  },
  {
   "cell_type": "code",
   "execution_count": 14,
   "metadata": {},
   "outputs": [],
   "source": [
    "# papers since 2020\n",
    "pmc_metadata = pmc_metadata.loc[pmc_metadata['publish_time']>='2020-01-01'].reset_index(drop=True)"
   ]
  },
  {
   "cell_type": "code",
   "execution_count": 15,
   "metadata": {},
   "outputs": [
    {
     "data": {
      "text/plain": [
       "'since 2020199057'"
      ]
     },
     "execution_count": 15,
     "metadata": {},
     "output_type": "execute_result"
    }
   ],
   "source": [
    "f\"since 2020{pmc_metadata.shape[0]}\""
   ]
  },
  {
   "cell_type": "code",
   "execution_count": 16,
   "metadata": {},
   "outputs": [],
   "source": [
    "# papers in Elsevier Medline\n",
    "pmc_metadata = pmc_metadata.loc[(pmc_metadata['source_x'].str.contains('Elsevier')) | (pmc_metadata['source_x'].str.contains('Medline'))]"
   ]
  },
  {
   "cell_type": "code",
   "execution_count": 17,
   "metadata": {},
   "outputs": [
    {
     "data": {
      "text/plain": [
       "'Elsevier Medline: 152164'"
      ]
     },
     "execution_count": 17,
     "metadata": {},
     "output_type": "execute_result"
    }
   ],
   "source": [
    "f\"Elsevier Medline: {pmc_metadata.shape[0]}\""
   ]
  },
  {
   "cell_type": "code",
   "execution_count": 18,
   "metadata": {},
   "outputs": [],
   "source": [
    "pmc_metadata.to_csv(f'valid_metadata_{data_dir}.csv',sep='\\t',index=False)"
   ]
  },
  {
   "cell_type": "code",
   "execution_count": 19,
   "metadata": {},
   "outputs": [
    {
     "data": {
      "text/plain": [
       "(152164, 19)"
      ]
     },
     "execution_count": 19,
     "metadata": {},
     "output_type": "execute_result"
    }
   ],
   "source": [
    "pd.read_csv(f'valid_metadata_{data_dir}.csv',sep='\\t').shape"
   ]
  },
  {
   "cell_type": "markdown",
   "metadata": {},
   "source": [
    "### citation network"
   ]
  },
  {
   "cell_type": "code",
   "execution_count": 22,
   "metadata": {},
   "outputs": [
    {
     "name": "stderr",
     "output_type": "stream",
     "text": [
      "152164it [08:05, 313.31it/s]\n"
     ]
    }
   ],
   "source": [
    "cite_edge_tuple = []\n",
    "for _,row in tqdm(pmc_metadata[['cord_uid','pmc_json_files','publish_time']].iterrows()):\n",
    "    cord_uid,pmc_json_files = row['cord_uid'],row['pmc_json_files']\n",
    "    paper_fulltext = json.load(open(f\"../{data_dir}/{pmc_json_files}\"))\n",
    "    paper_title = re.sub(r'[\\t\\r\"“.．#]',' ', paper_fulltext['metadata']['title']).strip()\n",
    "    citations = paper_fulltext[\"bib_entries\"]\n",
    "    for _,c in citations.items():\n",
    "        if str(c['year']) in  {'2020','2021','2022'}:\n",
    "            cited_title = re.sub(r'[\\t\\r\"“.．#]',' ', c['title']).strip()\n",
    "            try:\n",
    "                cited_uid = metadata_title_uid_dict[cited_title]\n",
    "            except:\n",
    "                cited_uid = None\n",
    "            cite_edge_tuple.append((paper_title,cited_title,row['publish_time'],cord_uid,cited_uid))"
   ]
  },
  {
   "cell_type": "code",
   "execution_count": 23,
   "metadata": {},
   "outputs": [],
   "source": [
    "citation_net = pd.DataFrame(data=cite_edge_tuple,columns=['citing_paper','cited_paper','time','citing_uid','cited_uid'])"
   ]
  },
  {
   "cell_type": "code",
   "execution_count": 24,
   "metadata": {},
   "outputs": [
    {
     "data": {
      "text/html": [
       "<div>\n",
       "<style scoped>\n",
       "    .dataframe tbody tr th:only-of-type {\n",
       "        vertical-align: middle;\n",
       "    }\n",
       "\n",
       "    .dataframe tbody tr th {\n",
       "        vertical-align: top;\n",
       "    }\n",
       "\n",
       "    .dataframe thead th {\n",
       "        text-align: right;\n",
       "    }\n",
       "</style>\n",
       "<table border=\"1\" class=\"dataframe\">\n",
       "  <thead>\n",
       "    <tr style=\"text-align: right;\">\n",
       "      <th></th>\n",
       "      <th>citing_paper</th>\n",
       "      <th>cited_paper</th>\n",
       "      <th>time</th>\n",
       "      <th>citing_uid</th>\n",
       "      <th>cited_uid</th>\n",
       "    </tr>\n",
       "  </thead>\n",
       "  <tbody>\n",
       "    <tr>\n",
       "      <th>0</th>\n",
       "      <td>Deservingness: migration and health in social ...</td>\n",
       "      <td>Overselling globalization: the misleading Conf...</td>\n",
       "      <td>2021-04-07</td>\n",
       "      <td>kby4wprm</td>\n",
       "      <td>None</td>\n",
       "    </tr>\n",
       "    <tr>\n",
       "      <th>1</th>\n",
       "      <td>Deservingness: migration and health in social ...</td>\n",
       "      <td>Asians and Asian Americans’ experiences of rac...</td>\n",
       "      <td>2021-04-07</td>\n",
       "      <td>kby4wprm</td>\n",
       "      <td>None</td>\n",
       "    </tr>\n",
       "    <tr>\n",
       "      <th>2</th>\n",
       "      <td>Deservingness: migration and health in social ...</td>\n",
       "      <td>Structural competency and global health education</td>\n",
       "      <td>2021-04-07</td>\n",
       "      <td>kby4wprm</td>\n",
       "      <td>None</td>\n",
       "    </tr>\n",
       "    <tr>\n",
       "      <th>3</th>\n",
       "      <td>Deservingness: migration and health in social ...</td>\n",
       "      <td>Structural Competency: Interprofessional Medic...</td>\n",
       "      <td>2021-04-07</td>\n",
       "      <td>kby4wprm</td>\n",
       "      <td>None</td>\n",
       "    </tr>\n",
       "    <tr>\n",
       "      <th>4</th>\n",
       "      <td>Deservingness: migration and health in social ...</td>\n",
       "      <td>Us food workers are in danger  that threatens ...</td>\n",
       "      <td>2021-04-07</td>\n",
       "      <td>kby4wprm</td>\n",
       "      <td>None</td>\n",
       "    </tr>\n",
       "    <tr>\n",
       "      <th>...</th>\n",
       "      <td>...</td>\n",
       "      <td>...</td>\n",
       "      <td>...</td>\n",
       "      <td>...</td>\n",
       "      <td>...</td>\n",
       "    </tr>\n",
       "    <tr>\n",
       "      <th>2316509</th>\n",
       "      <td>A Patient With Bilateral Conjunctivitis Positi...</td>\n",
       "      <td>Clinical features of patients infected with 20...</td>\n",
       "      <td>2020-07-02</td>\n",
       "      <td>05dxn54t</td>\n",
       "      <td>m2lq1qnp</td>\n",
       "    </tr>\n",
       "    <tr>\n",
       "      <th>2316510</th>\n",
       "      <td>A Patient With Bilateral Conjunctivitis Positi...</td>\n",
       "      <td>Conjunctivitis can be the only presenting sign...</td>\n",
       "      <td>2020-07-02</td>\n",
       "      <td>05dxn54t</td>\n",
       "      <td>fzrl5h9l</td>\n",
       "    </tr>\n",
       "    <tr>\n",
       "      <th>2316511</th>\n",
       "      <td>A Patient With Bilateral Conjunctivitis Positi...</td>\n",
       "      <td>Characteristics of ocular findings of patients...</td>\n",
       "      <td>2020-07-02</td>\n",
       "      <td>05dxn54t</td>\n",
       "      <td>None</td>\n",
       "    </tr>\n",
       "    <tr>\n",
       "      <th>2316512</th>\n",
       "      <td>Hospital variation in admissions to neonatal i...</td>\n",
       "      <td>Utility of birth certificate data for evaluati...</td>\n",
       "      <td>2020-08-14</td>\n",
       "      <td>pq54lvya</td>\n",
       "      <td>None</td>\n",
       "    </tr>\n",
       "    <tr>\n",
       "      <th>2316513</th>\n",
       "      <td>Hospital variation in admissions to neonatal i...</td>\n",
       "      <td>Neonatal abstinence syndrome management in Cal...</td>\n",
       "      <td>2020-08-14</td>\n",
       "      <td>pq54lvya</td>\n",
       "      <td>None</td>\n",
       "    </tr>\n",
       "  </tbody>\n",
       "</table>\n",
       "<p>2316514 rows × 5 columns</p>\n",
       "</div>"
      ],
      "text/plain": [
       "                                              citing_paper  \\\n",
       "0        Deservingness: migration and health in social ...   \n",
       "1        Deservingness: migration and health in social ...   \n",
       "2        Deservingness: migration and health in social ...   \n",
       "3        Deservingness: migration and health in social ...   \n",
       "4        Deservingness: migration and health in social ...   \n",
       "...                                                    ...   \n",
       "2316509  A Patient With Bilateral Conjunctivitis Positi...   \n",
       "2316510  A Patient With Bilateral Conjunctivitis Positi...   \n",
       "2316511  A Patient With Bilateral Conjunctivitis Positi...   \n",
       "2316512  Hospital variation in admissions to neonatal i...   \n",
       "2316513  Hospital variation in admissions to neonatal i...   \n",
       "\n",
       "                                               cited_paper       time  \\\n",
       "0        Overselling globalization: the misleading Conf... 2021-04-07   \n",
       "1        Asians and Asian Americans’ experiences of rac... 2021-04-07   \n",
       "2        Structural competency and global health education 2021-04-07   \n",
       "3        Structural Competency: Interprofessional Medic... 2021-04-07   \n",
       "4        Us food workers are in danger  that threatens ... 2021-04-07   \n",
       "...                                                    ...        ...   \n",
       "2316509  Clinical features of patients infected with 20... 2020-07-02   \n",
       "2316510  Conjunctivitis can be the only presenting sign... 2020-07-02   \n",
       "2316511  Characteristics of ocular findings of patients... 2020-07-02   \n",
       "2316512  Utility of birth certificate data for evaluati... 2020-08-14   \n",
       "2316513  Neonatal abstinence syndrome management in Cal... 2020-08-14   \n",
       "\n",
       "        citing_uid cited_uid  \n",
       "0         kby4wprm      None  \n",
       "1         kby4wprm      None  \n",
       "2         kby4wprm      None  \n",
       "3         kby4wprm      None  \n",
       "4         kby4wprm      None  \n",
       "...            ...       ...  \n",
       "2316509   05dxn54t  m2lq1qnp  \n",
       "2316510   05dxn54t  fzrl5h9l  \n",
       "2316511   05dxn54t      None  \n",
       "2316512   pq54lvya      None  \n",
       "2316513   pq54lvya      None  \n",
       "\n",
       "[2316514 rows x 5 columns]"
      ]
     },
     "execution_count": 24,
     "metadata": {},
     "output_type": "execute_result"
    }
   ],
   "source": [
    "citation_net"
   ]
  },
  {
   "cell_type": "code",
   "execution_count": 30,
   "metadata": {},
   "outputs": [
    {
     "data": {
      "text/plain": [
       "Timestamp('2022-10-15 00:00:00')"
      ]
     },
     "execution_count": 30,
     "metadata": {},
     "output_type": "execute_result"
    }
   ],
   "source": [
    "citation_net['time'].max()"
   ]
  },
  {
   "cell_type": "code",
   "execution_count": 25,
   "metadata": {},
   "outputs": [],
   "source": [
    "all_paper = set(citation_net['cited_paper']) | set(citation_net['citing_paper'])"
   ]
  },
  {
   "cell_type": "code",
   "execution_count": 26,
   "metadata": {},
   "outputs": [
    {
     "name": "stdout",
     "output_type": "stream",
     "text": [
      "citing paper and cited paper add up to 1137781\n"
     ]
    }
   ],
   "source": [
    "print(f\"citing paper and cited paper add up to {len(all_paper)}\")"
   ]
  },
  {
   "cell_type": "code",
   "execution_count": 27,
   "metadata": {},
   "outputs": [],
   "source": [
    "all_paper_uid = set(citation_net['citing_uid']) | set(citation_net['cited_uid'])"
   ]
  },
  {
   "cell_type": "code",
   "execution_count": 28,
   "metadata": {},
   "outputs": [
    {
     "name": "stdout",
     "output_type": "stream",
     "text": [
      "citing paper and cited paper uid add up to 260832\n"
     ]
    }
   ],
   "source": [
    "print(f\"citing paper and cited paper uid add up to {len(all_paper_uid)}\")"
   ]
  },
  {
   "cell_type": "code",
   "execution_count": 26,
   "metadata": {},
   "outputs": [],
   "source": [
    "# citation_net[['citing_year','citing_month','citing_date']] = citation_net['time'].str.split('-',expand=True)\n",
    "# citation_net.drop(columns=['time'],inplace=True)"
   ]
  },
  {
   "cell_type": "code",
   "execution_count": 29,
   "metadata": {},
   "outputs": [],
   "source": [
    "citation_net.to_csv(f'citation_net_{data_dir}.tsv',sep='\\t',index=False)"
   ]
  },
  {
   "cell_type": "code",
   "execution_count": null,
   "metadata": {},
   "outputs": [],
   "source": []
  }
 ],
 "metadata": {
  "kernelspec": {
   "display_name": "Python 3.8.12 ('base')",
   "language": "python",
   "name": "python3"
  },
  "language_info": {
   "codemirror_mode": {
    "name": "ipython",
    "version": 3
   },
   "file_extension": ".py",
   "mimetype": "text/x-python",
   "name": "python",
   "nbconvert_exporter": "python",
   "pygments_lexer": "ipython3",
   "version": "3.8.12"
  },
  "vscode": {
   "interpreter": {
    "hash": "af8259ad5c1c9c7a69bd6ea085234cf8fd3a6a37a71ca551828b314c4d89b0ad"
   }
  }
 },
 "nbformat": 4,
 "nbformat_minor": 4
}
