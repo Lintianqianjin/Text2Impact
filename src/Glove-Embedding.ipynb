{
 "cells": [
  {
   "cell_type": "code",
   "execution_count": 1,
   "metadata": {},
   "outputs": [],
   "source": [
    "import pandas as pd\n",
    "from scipy.sparse import csc_matrix\n",
    "from scipy.sparse import save_npz\n",
    "\n",
    "import json\n",
    "from nltk.tokenize import word_tokenize\n",
    "from nltk.stem import WordNetLemmatizer\n",
    "from tqdm import tqdm\n",
    "import nltk\n",
    "\n",
    "import numpy as np"
   ]
  },
  {
   "cell_type": "code",
   "execution_count": 3,
   "metadata": {},
   "outputs": [
    {
     "name": "stderr",
     "output_type": "stream",
     "text": [
      "[nltk_data] Downloading package punkt to\n",
      "[nltk_data]     C:\\Users\\袁伟康\\AppData\\Roaming\\nltk_data...\n",
      "[nltk_data]   Unzipping tokenizers\\punkt.zip.\n"
     ]
    },
    {
     "data": {
      "text/plain": [
       "True"
      ]
     },
     "execution_count": 3,
     "metadata": {},
     "output_type": "execute_result"
    }
   ],
   "source": [
    "nltk.download('punkt')"
   ]
  },
  {
   "cell_type": "code",
   "execution_count": 2,
   "metadata": {},
   "outputs": [],
   "source": [
    "data_dir = '2022-06-02'"
   ]
  },
  {
   "cell_type": "code",
   "execution_count": 4,
   "metadata": {},
   "outputs": [],
   "source": [
    "data = pd.read_csv(f'scibert_encoded_papers/needed_paper_metadata_{data_dir}.csv')"
   ]
  },
  {
   "cell_type": "code",
   "execution_count": 5,
   "metadata": {},
   "outputs": [],
   "source": [
    "data.fillna(' ',inplace=True)"
   ]
  },
  {
   "cell_type": "code",
   "execution_count": 6,
   "metadata": {},
   "outputs": [],
   "source": [
    "# words interesection\n",
    "words = []"
   ]
  },
  {
   "cell_type": "code",
   "execution_count": 7,
   "metadata": {},
   "outputs": [
    {
     "name": "stderr",
     "output_type": "stream",
     "text": [
      "267948it [05:42, 782.62it/s] \n"
     ]
    }
   ],
   "source": [
    "for idx, row in tqdm(data.iterrows()):\n",
    "    t_tokens = nltk.word_tokenize(row['title'].lower())\n",
    "    a_tokens = nltk.word_tokenize(row['abstract'].lower())\n",
    "    data.at[idx, 'title'] = t_tokens\n",
    "    data.at[idx, 'abstract'] = a_tokens\n",
    "    words.extend(t_tokens)\n",
    "    words.extend(a_tokens)"
   ]
  },
  {
   "cell_type": "code",
   "execution_count": 8,
   "metadata": {},
   "outputs": [],
   "source": [
    "word_set = set(words)"
   ]
  },
  {
   "cell_type": "code",
   "execution_count": 9,
   "metadata": {},
   "outputs": [
    {
     "data": {
      "text/plain": [
       "609532"
      ]
     },
     "execution_count": 9,
     "metadata": {},
     "output_type": "execute_result"
    }
   ],
   "source": [
    "len(word_set)"
   ]
  },
  {
   "cell_type": "code",
   "execution_count": 9,
   "metadata": {},
   "outputs": [],
   "source": [
    "# load embedding"
   ]
  },
  {
   "cell_type": "code",
   "execution_count": 10,
   "metadata": {},
   "outputs": [
    {
     "name": "stderr",
     "output_type": "stream",
     "text": [
      "1917495it [00:46, 40936.25it/s]\n"
     ]
    }
   ],
   "source": [
    "word_embs = []\n",
    "with open('glove.42B.300d.txt','r',encoding='utf-8') as fr:\n",
    "    for line in tqdm(fr):\n",
    "        line = line.strip().split(' ')\n",
    "        word = line[0]\n",
    "        if word in word_set:\n",
    "#             embed = map(lambda x:float(x),line[1:])\n",
    "            word_embs.append(line)"
   ]
  },
  {
   "cell_type": "code",
   "execution_count": 11,
   "metadata": {},
   "outputs": [],
   "source": [
    "word_embs = pd.DataFrame(word_embs).set_index(0).astype(float)"
   ]
  },
  {
   "cell_type": "code",
   "execution_count": 12,
   "metadata": {},
   "outputs": [],
   "source": [
    "final_word_set = set(word_embs.index)"
   ]
  },
  {
   "cell_type": "code",
   "execution_count": 13,
   "metadata": {},
   "outputs": [
    {
     "name": "stderr",
     "output_type": "stream",
     "text": [
      "267948it [10:01, 445.27it/s]\n"
     ]
    }
   ],
   "source": [
    "title_embs = []\n",
    "abstract_embs = []\n",
    "\n",
    "for idx, row in tqdm(data.iterrows()):\n",
    "    title_emb = word_embs.loc[list(filter(lambda x:x in final_word_set,row['title']))].mean(0).values\n",
    "    title_embs.append(title_emb)\n",
    "    \n",
    "    abstract_emb = word_embs.loc[list(filter(lambda x:x in final_word_set,row['abstract']))].mean(0).values\n",
    "    abstract_embs.append(abstract_emb)"
   ]
  },
  {
   "cell_type": "code",
   "execution_count": 14,
   "metadata": {},
   "outputs": [],
   "source": [
    "title_embs_array = np.vstack(title_embs)\n",
    "title_embs_df = pd.DataFrame(data=title_embs_array,columns=['emb'+str(i) for i in range(300)],index=data['cord_uid']).fillna(0.)"
   ]
  },
  {
   "cell_type": "code",
   "execution_count": 15,
   "metadata": {},
   "outputs": [],
   "source": [
    "abstract_embs_array = np.vstack(abstract_embs)\n",
    "abstract_embs_df = pd.DataFrame(data=abstract_embs_array,columns=['emb'+str(i) for i in range(300)],index=data['cord_uid']).fillna(0.)"
   ]
  },
  {
   "cell_type": "code",
   "execution_count": 16,
   "metadata": {},
   "outputs": [],
   "source": [
    "title_embs_df.to_csv(f'title_embs_df_glove_{data_dir}.csv')\n",
    "abstract_embs_df.to_csv(f'abstract_embs_df_glove_{data_dir}.csv')"
   ]
  },
  {
   "cell_type": "code",
   "execution_count": null,
   "metadata": {},
   "outputs": [],
   "source": []
  }
 ],
 "metadata": {
  "kernelspec": {
   "display_name": "Python 3.8.12 ('base')",
   "language": "python",
   "name": "python3"
  },
  "language_info": {
   "codemirror_mode": {
    "name": "ipython",
    "version": 3
   },
   "file_extension": ".py",
   "mimetype": "text/x-python",
   "name": "python",
   "nbconvert_exporter": "python",
   "pygments_lexer": "ipython3",
   "version": "3.8.12"
  },
  "vscode": {
   "interpreter": {
    "hash": "af8259ad5c1c9c7a69bd6ea085234cf8fd3a6a37a71ca551828b314c4d89b0ad"
   }
  }
 },
 "nbformat": 4,
 "nbformat_minor": 4
}
