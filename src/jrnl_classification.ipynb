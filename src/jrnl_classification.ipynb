{
 "cells": [
  {
   "cell_type": "code",
   "execution_count": 1,
   "metadata": {},
   "outputs": [],
   "source": [
    "import json\n",
    "import pandas as pd\n",
    "pd.options.mode.chained_assignment = None\n",
    "from tqdm import tqdm\n",
    "import numpy as np\n",
    "import regex as re\n",
    "import matplotlib.pyplot as plt\n",
    "from collections import Counter\n",
    "from sklearn.ensemble import RandomForestClassifier\n",
    "from sklearn.model_selection import cross_validate\n",
    "import pandas as pd\n",
    "\n",
    "from sklearn.metrics.pairwise import cosine_similarity, paired_distances\n",
    "import numpy as np\n",
    "np.random.seed(0)\n",
    "\n",
    "from tqdm import tqdm\n",
    "import random\n",
    "\n",
    "# libraries & dataset\n",
    "import seaborn as sns\n",
    "import matplotlib.pyplot as plt\n",
    "# set a grey background (use sns.set_theme() if seaborn version 0.11.0 or above) \n",
    "sns.set_theme(style=\"white\", palette=\"pastel\")\n",
    "import scipy\n",
    "import json\n",
    "\n",
    "from scipy import sparse\n",
    "\n",
    "import time\n",
    "import gc"
   ]
  },
  {
   "cell_type": "code",
   "execution_count": 2,
   "metadata": {},
   "outputs": [],
   "source": [
    "data_dir = '2022-06-02'"
   ]
  },
  {
   "cell_type": "code",
   "execution_count": 3,
   "metadata": {},
   "outputs": [],
   "source": [
    "papers = pd.read_csv(f'scibert_encoded_papers/valid_metadata_{data_dir}.csv',sep='\\t').set_index('cord_uid')[['title','journal','publish_time']].sort_values('publish_time')"
   ]
  },
  {
   "cell_type": "code",
   "execution_count": 4,
   "metadata": {},
   "outputs": [],
   "source": [
    "jrnls = Counter(papers['journal']).most_common(100)"
   ]
  },
  {
   "cell_type": "code",
   "execution_count": 35,
   "metadata": {},
   "outputs": [],
   "source": [
    "# Counter(papers['journal']).most_common()"
   ]
  },
  {
   "cell_type": "code",
   "execution_count": 5,
   "metadata": {},
   "outputs": [],
   "source": [
    "top_k = 10\n",
    "selected =  list(map(lambda x:x[0], Counter(papers['journal']).most_common()[:top_k]))"
   ]
  },
  {
   "cell_type": "code",
   "execution_count": 37,
   "metadata": {},
   "outputs": [],
   "source": [
    "# selected = ['Int J Environ Res Public Health','Front Public Health','Br J Surg','Front Immunol','Int J Mol Sci','J Clin Med']"
   ]
  },
  {
   "cell_type": "code",
   "execution_count": 6,
   "metadata": {},
   "outputs": [
    {
     "name": "stdout",
     "output_type": "stream",
     "text": [
      "Int J Environ Res Public Health 5242\n",
      "PLoS One 2954\n",
      "Cureus 1908\n",
      "Sci Rep 1898\n",
      "Front Psychol 1815\n",
      "BMJ Open 1672\n",
      "Front Immunol 1402\n",
      "Front Public Health 1377\n",
      "Int J Mol Sci 1338\n",
      "J Clin Med 1291\n"
     ]
    }
   ],
   "source": [
    "for s in selected: print(s,Counter(papers['journal'])[s])"
   ]
  },
  {
   "cell_type": "code",
   "execution_count": 39,
   "metadata": {},
   "outputs": [],
   "source": [
    "# n_per_class = 197"
   ]
  },
  {
   "cell_type": "code",
   "execution_count": 7,
   "metadata": {},
   "outputs": [],
   "source": [
    "samples = []\n",
    "for jrnl in selected:\n",
    "    df = papers.loc[papers['journal']==jrnl] #.sample(n=n_per_class, random_state=0)\n",
    "    samples.append(df)\n",
    "samples = pd.concat(samples,axis=0)"
   ]
  },
  {
   "cell_type": "code",
   "execution_count": 8,
   "metadata": {},
   "outputs": [],
   "source": [
    "samples['label'] = list(map(lambda x:selected.index(x),samples['journal'].tolist()))"
   ]
  },
  {
   "cell_type": "code",
   "execution_count": 9,
   "metadata": {},
   "outputs": [],
   "source": [
    "Y = samples['label']"
   ]
  },
  {
   "cell_type": "code",
   "execution_count": 13,
   "metadata": {},
   "outputs": [
    {
     "name": "stdout",
     "output_type": "stream",
     "text": [
      "TF-IDF\n",
      "Glove\n",
      "SciBert\n",
      "Biobert\n"
     ]
    }
   ],
   "source": [
    "models_scores = dict()\n",
    "for method in ['TF-IDF','Glove','SciBert','Biobert']:\n",
    "    # method = 'scibert'\n",
    "    # method = 'tfidf'\n",
    "    # SCIBERT Embedding\n",
    "    if method == 'SciBert':\n",
    "        print('SciBert')\n",
    "        title_embs_df = pd.read_csv(f'scibert_encoded_papers/title_embs_df_{data_dir}.csv',index_col=0)\n",
    "        abstract_embs_df = pd.read_csv(f'scibert_encoded_papers/abstract_embs_df_{data_dir}.csv',index_col=0)\n",
    "        paper_emb = title_embs_df.join(abstract_embs_df,lsuffix='_ti',rsuffix='_ab')\n",
    "        uid_map = {uid:i for i,uid in enumerate(title_embs_df.index)}\n",
    "        X = paper_emb.values[list(map(lambda x:uid_map[x],samples.index.tolist()))]\n",
    "\n",
    "    if method == 'Biobert':\n",
    "        print('Biobert')\n",
    "        title_embs_df = pd.read_csv(f'title_embs_df_biobert_{data_dir}.csv',index_col=0)\n",
    "        abstract_embs_df = pd.read_csv(f'abstract_embs_df_biobert_{data_dir}.csv',index_col=0)\n",
    "        paper_emb = title_embs_df.join(abstract_embs_df,lsuffix='_ti',rsuffix='_ab')\n",
    "        uid_map = {uid:i for i,uid in enumerate(title_embs_df.index)}\n",
    "        X = paper_emb.values[list(map(lambda x:uid_map[x],samples.index.tolist()))]\n",
    "\n",
    "    # Glove Embedding\n",
    "    if method == 'Glove':\n",
    "        print('Glove')\n",
    "        title_embs_df = pd.read_csv(f'title_embs_df_glove_{data_dir}.csv',index_col=0)\n",
    "        abstract_embs_df = pd.read_csv(f'abstract_embs_df_glove_{data_dir}.csv',index_col=0)\n",
    "        paper_emb = title_embs_df.join(abstract_embs_df,lsuffix='_ti',rsuffix='_ab')\n",
    "        uid_map = {uid:i for i,uid in enumerate(title_embs_df.index)}\n",
    "        X = paper_emb.values[list(map(lambda x:uid_map[x],samples.index.tolist()))]\n",
    "\n",
    "\n",
    "    # TF-IDF Embedding\n",
    "    if method == 'TF-IDF':\n",
    "        print('TF-IDF')\n",
    "        values = scipy.sparse.load_npz(f'tf-idf-results/values_{data_dir}_scibert_token.npz')\n",
    "        index = json.load(open(f\"tf-idf-results/index_{data_dir}_scibert_token\",'r',encoding='utf-8'))\n",
    "        column = json.load(open(f\"tf-idf-results/column_{data_dir}_scibert_token\",'r',encoding='utf-8'))\n",
    "        # paper_emb = pd.DataFrame.sparse.from_spmatrix(values,columns=column,index=index)\n",
    "        uid_map = {uid:i for i,uid in enumerate(index)}\n",
    "        X = values[list(map(lambda x:uid_map[x],samples.index.tolist()))]\n",
    "    \n",
    "\n",
    "    clf = RandomForestClassifier()\n",
    "    models_scores[method] = cross_validate(clf, X, Y, cv=5,\n",
    "                             scoring=('f1_micro', 'f1_macro','neg_log_loss'),\n",
    "                             return_train_score=True)"
   ]
  },
  {
   "cell_type": "code",
   "execution_count": 14,
   "metadata": {},
   "outputs": [],
   "source": [
    "data = []\n",
    "for k,v in models_scores.items():\n",
    "    for i in range(5):\n",
    "        data.append([k,'Test Micro F1',v['test_f1_micro'][i]])\n",
    "    for i in range(5):\n",
    "        data.append([k,'Test Macro F1',v['test_f1_macro'][i]])\n",
    "#     for i in range(5):\n",
    "#         data.append([k,'test_neg_log_loss',v['test_neg_log_loss'][i]])"
   ]
  },
  {
   "cell_type": "code",
   "execution_count": 15,
   "metadata": {},
   "outputs": [],
   "source": [
    "data_df = pd.DataFrame(data,columns=['method','metric','value'])"
   ]
  },
  {
   "cell_type": "code",
   "execution_count": 16,
   "metadata": {},
   "outputs": [],
   "source": [
    "df = pd.concat([data_df.groupby(['method','metric']).apply(lambda x: x.mean()), data_df.groupby(['method','metric']).apply(lambda x: x.std())], axis=1)"
   ]
  },
  {
   "cell_type": "code",
   "execution_count": 17,
   "metadata": {},
   "outputs": [],
   "source": [
    "df.columns = ['Mean', 'Std']"
   ]
  },
  {
   "cell_type": "code",
   "execution_count": 18,
   "metadata": {},
   "outputs": [
    {
     "data": {
      "text/html": [
       "<div>\n",
       "<style scoped>\n",
       "    .dataframe tbody tr th:only-of-type {\n",
       "        vertical-align: middle;\n",
       "    }\n",
       "\n",
       "    .dataframe tbody tr th {\n",
       "        vertical-align: top;\n",
       "    }\n",
       "\n",
       "    .dataframe thead th {\n",
       "        text-align: right;\n",
       "    }\n",
       "</style>\n",
       "<table border=\"1\" class=\"dataframe\">\n",
       "  <thead>\n",
       "    <tr style=\"text-align: right;\">\n",
       "      <th></th>\n",
       "      <th></th>\n",
       "      <th>Mean</th>\n",
       "      <th>Std</th>\n",
       "    </tr>\n",
       "    <tr>\n",
       "      <th>method</th>\n",
       "      <th>metric</th>\n",
       "      <th></th>\n",
       "      <th></th>\n",
       "    </tr>\n",
       "  </thead>\n",
       "  <tbody>\n",
       "    <tr>\n",
       "      <th rowspan=\"2\" valign=\"top\">Biobert</th>\n",
       "      <th>Test Macro F1</th>\n",
       "      <td>0.492270</td>\n",
       "      <td>0.008157</td>\n",
       "    </tr>\n",
       "    <tr>\n",
       "      <th>Test Micro F1</th>\n",
       "      <td>0.540030</td>\n",
       "      <td>0.002198</td>\n",
       "    </tr>\n",
       "    <tr>\n",
       "      <th rowspan=\"2\" valign=\"top\">Glove</th>\n",
       "      <th>Test Macro F1</th>\n",
       "      <td>0.449052</td>\n",
       "      <td>0.003078</td>\n",
       "    </tr>\n",
       "    <tr>\n",
       "      <th>Test Micro F1</th>\n",
       "      <td>0.497774</td>\n",
       "      <td>0.007505</td>\n",
       "    </tr>\n",
       "    <tr>\n",
       "      <th rowspan=\"2\" valign=\"top\">SciBert</th>\n",
       "      <th>Test Macro F1</th>\n",
       "      <td>0.499865</td>\n",
       "      <td>0.007657</td>\n",
       "    </tr>\n",
       "    <tr>\n",
       "      <th>Test Micro F1</th>\n",
       "      <td>0.545246</td>\n",
       "      <td>0.006580</td>\n",
       "    </tr>\n",
       "    <tr>\n",
       "      <th rowspan=\"2\" valign=\"top\">TF-IDF</th>\n",
       "      <th>Test Macro F1</th>\n",
       "      <td>0.439297</td>\n",
       "      <td>0.007619</td>\n",
       "    </tr>\n",
       "    <tr>\n",
       "      <th>Test Micro F1</th>\n",
       "      <td>0.512944</td>\n",
       "      <td>0.004833</td>\n",
       "    </tr>\n",
       "  </tbody>\n",
       "</table>\n",
       "</div>"
      ],
      "text/plain": [
       "                           Mean       Std\n",
       "method  metric                           \n",
       "Biobert Test Macro F1  0.492270  0.008157\n",
       "        Test Micro F1  0.540030  0.002198\n",
       "Glove   Test Macro F1  0.449052  0.003078\n",
       "        Test Micro F1  0.497774  0.007505\n",
       "SciBert Test Macro F1  0.499865  0.007657\n",
       "        Test Micro F1  0.545246  0.006580\n",
       "TF-IDF  Test Macro F1  0.439297  0.007619\n",
       "        Test Micro F1  0.512944  0.004833"
      ]
     },
     "execution_count": 18,
     "metadata": {},
     "output_type": "execute_result"
    }
   ],
   "source": [
    "# top k :\n",
    "df"
   ]
  },
  {
   "cell_type": "code",
   "execution_count": 19,
   "metadata": {},
   "outputs": [
    {
     "data": {
      "image/png": "[encoded data removed]",
      "text/plain": [
       "<Figure size 576x360 with 1 Axes>"
      ]
     },
     "metadata": {
      "needs_background": "light"
     },
     "output_type": "display_data"
    }
   ],
   "source": [
    "# Grouped violinplot\n",
    "plt.figure(figsize=(8,5))\n",
    "sns.boxplot(x='method', y='value',hue=\"metric\", data=data_df, width=0.5, linewidth=1.,whis=8)\n",
    "# sns.catplot(x='method', y='value',hue=\"metric\", data=data_df, linewidth=1,height=4, aspect=.7, palette=\"Set3\")\n",
    "# sns.swarmplot(x='method', y='value',hue=\"metric\", data=data_df,palette=\"Blues\")\n",
    "\n",
    "plt.legend(loc='upper left',fontsize=14)\n",
    "plt.xticks(fontsize=14)\n",
    "plt.yticks(fontsize=14)\n",
    "plt.ylabel('Metric Value',fontsize=16)\n",
    "plt.xlabel('Method',fontsize=16)\n",
    "# plt.show()\n",
    "plt.tight_layout()\n",
    "plt.savefig('Jrnl_Classification.png',dpi=300)"
   ]
  },
  {
   "cell_type": "code",
   "execution_count": null,
   "metadata": {},
   "outputs": [],
   "source": []
  },
  {
   "cell_type": "code",
   "execution_count": null,
   "metadata": {},
   "outputs": [],
   "source": []
  },
  {
   "cell_type": "code",
   "execution_count": 28,
   "metadata": {},
   "outputs": [
    {
     "data": {
      "text/html": [
       "<div>\n",
       "<style scoped>\n",
       "    .dataframe tbody tr th:only-of-type {\n",
       "        vertical-align: middle;\n",
       "    }\n",
       "\n",
       "    .dataframe tbody tr th {\n",
       "        vertical-align: top;\n",
       "    }\n",
       "\n",
       "    .dataframe thead th {\n",
       "        text-align: right;\n",
       "    }\n",
       "</style>\n",
       "<table border=\"1\" class=\"dataframe\">\n",
       "  <thead>\n",
       "    <tr style=\"text-align: right;\">\n",
       "      <th></th>\n",
       "      <th></th>\n",
       "      <th>Mean</th>\n",
       "      <th>Std</th>\n",
       "    </tr>\n",
       "    <tr>\n",
       "      <th>method</th>\n",
       "      <th>metric</th>\n",
       "      <th></th>\n",
       "      <th></th>\n",
       "    </tr>\n",
       "  </thead>\n",
       "  <tbody>\n",
       "    <tr>\n",
       "      <th rowspan=\"2\" valign=\"top\">Glove</th>\n",
       "      <th>Test Macro F1</th>\n",
       "      <td>0.613423</td>\n",
       "      <td>0.027470</td>\n",
       "    </tr>\n",
       "    <tr>\n",
       "      <th>Test Micro F1</th>\n",
       "      <td>0.716974</td>\n",
       "      <td>0.011954</td>\n",
       "    </tr>\n",
       "    <tr>\n",
       "      <th rowspan=\"2\" valign=\"top\">SciBert</th>\n",
       "      <th>Test Macro F1</th>\n",
       "      <td>0.632459</td>\n",
       "      <td>0.017395</td>\n",
       "    </tr>\n",
       "    <tr>\n",
       "      <th>Test Micro F1</th>\n",
       "      <td>0.730987</td>\n",
       "      <td>0.006856</td>\n",
       "    </tr>\n",
       "    <tr>\n",
       "      <th rowspan=\"2\" valign=\"top\">TF-IDF</th>\n",
       "      <th>Test Macro F1</th>\n",
       "      <td>0.573969</td>\n",
       "      <td>0.017924</td>\n",
       "    </tr>\n",
       "    <tr>\n",
       "      <th>Test Micro F1</th>\n",
       "      <td>0.700655</td>\n",
       "      <td>0.005800</td>\n",
       "    </tr>\n",
       "  </tbody>\n",
       "</table>\n",
       "</div>"
      ],
      "text/plain": [
       "                           Mean       Std\n",
       "method  metric                           \n",
       "Glove   Test Macro F1  0.613423  0.027470\n",
       "        Test Micro F1  0.716974  0.011954\n",
       "SciBert Test Macro F1  0.632459  0.017395\n",
       "        Test Micro F1  0.730987  0.006856\n",
       "TF-IDF  Test Macro F1  0.573969  0.017924\n",
       "        Test Micro F1  0.700655  0.005800"
      ]
     },
     "execution_count": 28,
     "metadata": {},
     "output_type": "execute_result"
    }
   ],
   "source": [
    "df"
   ]
  },
  {
   "cell_type": "code",
   "execution_count": 32,
   "metadata": {},
   "outputs": [],
   "source": [
    "df.round(4).to_excel('jrnl_clf.xlsx')"
   ]
  },
  {
   "cell_type": "code",
   "execution_count": 14,
   "metadata": {},
   "outputs": [],
   "source": [
    "# iris_df = sns.load_dataset('iris')"
   ]
  },
  {
   "cell_type": "code",
   "execution_count": 28,
   "metadata": {},
   "outputs": [],
   "source": [
    "# data_df"
   ]
  },
  {
   "cell_type": "code",
   "execution_count": 15,
   "metadata": {},
   "outputs": [],
   "source": [
    "# iris_df"
   ]
  },
  {
   "cell_type": "code",
   "execution_count": 29,
   "metadata": {},
   "outputs": [
    {
     "data": {
      "image/png": "[encoded data removed]",
      "text/plain": [
       "<Figure size 576x360 with 1 Axes>"
      ]
     },
     "metadata": {
      "needs_background": "light"
     },
     "output_type": "display_data"
    }
   ],
   "source": [
    "# Grouped violinplot\n",
    "plt.figure(figsize=(8,5))\n",
    "sns.boxplot(x='method', y='value',hue=\"metric\", data=data_df, width=0.5, linewidth=1.,whis=8)\n",
    "# sns.catplot(x='method', y='value',hue=\"metric\", data=data_df, linewidth=1,height=4, aspect=.7, palette=\"Set3\")\n",
    "# sns.swarmplot(x='method', y='value',hue=\"metric\", data=data_df,palette=\"Blues\")\n",
    "\n",
    "plt.legend(loc='upper left',fontsize=14)\n",
    "plt.xticks(fontsize=14)\n",
    "plt.yticks(fontsize=14)\n",
    "plt.ylabel('Metric Value',fontsize=16)\n",
    "plt.xlabel('Method',fontsize=16)\n",
    "# plt.show()\n",
    "plt.tight_layout()\n",
    "plt.savefig('Jrnl_Classification.png',dpi=300)"
   ]
  },
  {
   "cell_type": "code",
   "execution_count": 17,
   "metadata": {},
   "outputs": [],
   "source": [
    "# scores"
   ]
  },
  {
   "cell_type": "code",
   "execution_count": 31,
   "metadata": {},
   "outputs": [],
   "source": [
    "# print(scores['test_f1_micro'])\n",
    "# print(scores['test_f1_macro'])\n",
    "# print(scores['test_neg_log_loss'])"
   ]
  }
 ],
 "metadata": {
  "kernelspec": {
   "display_name": "Python 3.8.12 ('base')",
   "language": "python",
   "name": "python3"
  },
  "language_info": {
   "codemirror_mode": {
    "name": "ipython",
    "version": 3
   },
   "file_extension": ".py",
   "mimetype": "text/x-python",
   "name": "python",
   "nbconvert_exporter": "python",
   "pygments_lexer": "ipython3",
   "version": "3.8.12"
  },
  "vscode": {
   "interpreter": {
    "hash": "af8259ad5c1c9c7a69bd6ea085234cf8fd3a6a37a71ca551828b314c4d89b0ad"
   }
  }
 },
 "nbformat": 4,
 "nbformat_minor": 4
}
