{
 "cells": [
  {
   "cell_type": "code",
   "execution_count": 1,
   "metadata": {},
   "outputs": [],
   "source": [
    "import json\n",
    "import pandas as pd\n",
    "pd.options.mode.chained_assignment = None\n",
    "from tqdm import tqdm\n",
    "import numpy as np\n",
    "import regex as re\n",
    "import matplotlib.pyplot as plt"
   ]
  },
  {
   "cell_type": "code",
   "execution_count": 2,
   "metadata": {},
   "outputs": [],
   "source": [
    "data_dir = '2021-07-19'"
   ]
  },
  {
   "cell_type": "code",
   "execution_count": 3,
   "metadata": {},
   "outputs": [],
   "source": [
    "all_metadata = pd.read_csv(f\"../{data_dir}/metadata.csv\",low_memory=False)"
   ]
  },
  {
   "cell_type": "code",
   "execution_count": 4,
   "metadata": {},
   "outputs": [
    {
     "data": {
      "text/plain": [
       "(709156, 19)"
      ]
     },
     "execution_count": 4,
     "metadata": {},
     "output_type": "execute_result"
    }
   ],
   "source": [
    "all_metadata.shape"
   ]
  },
  {
   "cell_type": "code",
   "execution_count": 6,
   "metadata": {},
   "outputs": [
    {
     "data": {
      "text/plain": [
       "41099"
      ]
     },
     "execution_count": 6,
     "metadata": {},
     "output_type": "execute_result"
    }
   ],
   "source": [
    "from collections import Counter\n",
    "len(Counter(all_metadata['journal']))"
   ]
  },
  {
   "cell_type": "code",
   "execution_count": 5,
   "metadata": {},
   "outputs": [],
   "source": [
    "# 根据cord_uid去重\n",
    "all_metadata = all_metadata.drop_duplicates('cord_uid',keep='first')"
   ]
  },
  {
   "cell_type": "code",
   "execution_count": 6,
   "metadata": {},
   "outputs": [],
   "source": [
    "all_metadata['title'] = all_metadata['title'].str.replace(r'[\\t\\r\"“.．#]',' ', regex=True).str.strip()\n",
    "all_metadata['cord_uid'] = all_metadata['cord_uid'].str.replace(r'[\\t\\r\"“.．#]',' ', regex=True).str.strip()\n",
    "all_metadata['source_x'] = all_metadata['source_x'].str.replace(r'[\\t\\r\"“.．#]',' ', regex=True).str.strip()\n",
    "all_metadata['publish_time'] = all_metadata['publish_time'].str.replace(r'[\\t\\r\"“.．#]',' ', regex=True).str.strip()"
   ]
  },
  {
   "cell_type": "code",
   "execution_count": 7,
   "metadata": {},
   "outputs": [],
   "source": [
    "# 根据title 去重\n",
    "all_metadata = all_metadata.drop_duplicates('title',keep='first')"
   ]
  },
  {
   "cell_type": "code",
   "execution_count": 8,
   "metadata": {},
   "outputs": [
    {
     "data": {
      "text/plain": [
       "(476559, 19)"
      ]
     },
     "execution_count": 8,
     "metadata": {},
     "output_type": "execute_result"
    }
   ],
   "source": [
    "all_metadata.shape"
   ]
  },
  {
   "cell_type": "code",
   "execution_count": 9,
   "metadata": {},
   "outputs": [],
   "source": [
    "# metadata_title_time_dict = dict(all_metadata[['title','publish_time']].values)\n",
    "metadata_title_uid_dict = dict(all_metadata[['title','cord_uid']].values)"
   ]
  },
  {
   "cell_type": "code",
   "execution_count": 10,
   "metadata": {},
   "outputs": [],
   "source": [
    "# 仅保留有pmc json文件的\n",
    "pmc_metadata = all_metadata.loc[~(all_metadata['pmc_json_files'].isna())]"
   ]
  },
  {
   "cell_type": "code",
   "execution_count": 11,
   "metadata": {},
   "outputs": [],
   "source": [
    "pmc_metadata['publish_time'] = pd.to_datetime(pmc_metadata['publish_time'],format=\"%Y-%m-%d\")"
   ]
  },
  {
   "cell_type": "code",
   "execution_count": 12,
   "metadata": {},
   "outputs": [
    {
     "data": {
      "text/plain": [
       "'全时间段论文数量107082'"
      ]
     },
     "execution_count": 12,
     "metadata": {},
     "output_type": "execute_result"
    }
   ],
   "source": [
    "f\"全时间段论文数量{pmc_metadata.shape[0]}\""
   ]
  },
  {
   "cell_type": "code",
   "execution_count": 13,
   "metadata": {},
   "outputs": [],
   "source": [
    "# 仅保留2020年后的\n",
    "pmc_metadata = pmc_metadata.loc[pmc_metadata['publish_time']>='2020-01-01'].reset_index(drop=True)"
   ]
  },
  {
   "cell_type": "code",
   "execution_count": 14,
   "metadata": {},
   "outputs": [
    {
     "data": {
      "text/plain": [
       "'2020年后论文数量71539'"
      ]
     },
     "execution_count": 14,
     "metadata": {},
     "output_type": "execute_result"
    }
   ],
   "source": [
    "f\"2020年后论文数量{pmc_metadata.shape[0]}\""
   ]
  },
  {
   "cell_type": "code",
   "execution_count": 15,
   "metadata": {},
   "outputs": [],
   "source": [
    "# 仅保留Elsevier Medline收录的论文\n",
    "pmc_metadata = pmc_metadata.loc[(pmc_metadata['source_x'].str.contains('Elsevier')) | (pmc_metadata['source_x'].str.contains('Medline'))]"
   ]
  },
  {
   "cell_type": "code",
   "execution_count": 16,
   "metadata": {},
   "outputs": [
    {
     "data": {
      "text/plain": [
       "'Elsevier Medline 的论文数量47869'"
      ]
     },
     "execution_count": 16,
     "metadata": {},
     "output_type": "execute_result"
    }
   ],
   "source": [
    "f\"Elsevier Medline 的论文数量{pmc_metadata.shape[0]}\""
   ]
  },
  {
   "cell_type": "code",
   "execution_count": 17,
   "metadata": {},
   "outputs": [],
   "source": [
    "pmc_metadata.to_csv(f'valid_metadata_{data_dir}.csv',sep='\\t',index=False)"
   ]
  },
  {
   "cell_type": "code",
   "execution_count": 18,
   "metadata": {},
   "outputs": [
    {
     "data": {
      "text/plain": [
       "(47869, 19)"
      ]
     },
     "execution_count": 18,
     "metadata": {},
     "output_type": "execute_result"
    }
   ],
   "source": [
    "pd.read_csv(f'valid_metadata_{data_dir}.csv',sep='\\t').shape"
   ]
  },
  {
   "cell_type": "markdown",
   "metadata": {},
   "source": [
    "### 引文网络"
   ]
  },
  {
   "cell_type": "code",
   "execution_count": 19,
   "metadata": {},
   "outputs": [
    {
     "name": "stderr",
     "output_type": "stream",
     "text": [
      "47869it [02:06, 377.80it/s]\n"
     ]
    }
   ],
   "source": [
    "cite_edge_tuple = []\n",
    "for _,row in tqdm(pmc_metadata[['cord_uid','pmc_json_files','publish_time']].iterrows()):\n",
    "    cord_uid,pmc_json_files = row['cord_uid'],row['pmc_json_files']\n",
    "    paper_fulltext = json.load(open(f\"../{data_dir}/{pmc_json_files}\"))\n",
    "    paper_title = re.sub(r'[\\t\\r\"“.．#]',' ', paper_fulltext['metadata']['title']).strip()\n",
    "    citations = paper_fulltext[\"bib_entries\"]\n",
    "    for _,c in citations.items():\n",
    "        if str(c['year']) in  {'2020','2021'}:\n",
    "            cited_title = re.sub(r'[\\t\\r\"“.．#]',' ', c['title']).strip()\n",
    "            try:\n",
    "                cited_uid = metadata_title_uid_dict[cited_title]\n",
    "            except:\n",
    "                cited_uid = None\n",
    "            cite_edge_tuple.append((paper_title,cited_title,row['publish_time'],cord_uid,cited_uid))"
   ]
  },
  {
   "cell_type": "code",
   "execution_count": 20,
   "metadata": {},
   "outputs": [],
   "source": [
    "citation_net = pd.DataFrame(data=cite_edge_tuple,columns=['citing_paper','cited_paper','time','citing_uid','cited_uid'])"
   ]
  },
  {
   "cell_type": "code",
   "execution_count": 21,
   "metadata": {},
   "outputs": [
    {
     "data": {
      "text/html": [
       "<div>\n",
       "<style scoped>\n",
       "    .dataframe tbody tr th:only-of-type {\n",
       "        vertical-align: middle;\n",
       "    }\n",
       "\n",
       "    .dataframe tbody tr th {\n",
       "        vertical-align: top;\n",
       "    }\n",
       "\n",
       "    .dataframe thead th {\n",
       "        text-align: right;\n",
       "    }\n",
       "</style>\n",
       "<table border=\"1\" class=\"dataframe\">\n",
       "  <thead>\n",
       "    <tr style=\"text-align: right;\">\n",
       "      <th></th>\n",
       "      <th>citing_paper</th>\n",
       "      <th>cited_paper</th>\n",
       "      <th>time</th>\n",
       "      <th>citing_uid</th>\n",
       "      <th>cited_uid</th>\n",
       "    </tr>\n",
       "  </thead>\n",
       "  <tbody>\n",
       "    <tr>\n",
       "      <th>0</th>\n",
       "      <td>Hypoxia-induced amniotic fluid stem cell secre...</td>\n",
       "      <td>Endothelial cell infection and endotheliitis i...</td>\n",
       "      <td>2021-01-08</td>\n",
       "      <td>6jbjwl8j</td>\n",
       "      <td>43gqjlca</td>\n",
       "    </tr>\n",
       "    <tr>\n",
       "      <th>1</th>\n",
       "      <td>Hypoxia-induced amniotic fluid stem cell secre...</td>\n",
       "      <td>Human mesenchymal stem cells-conditioned mediu...</td>\n",
       "      <td>2021-01-08</td>\n",
       "      <td>6jbjwl8j</td>\n",
       "      <td>None</td>\n",
       "    </tr>\n",
       "    <tr>\n",
       "      <th>2</th>\n",
       "      <td>Hypoxia-induced amniotic fluid stem cell secre...</td>\n",
       "      <td>LRP6 downregulation promotes cardiomyocyte pro...</td>\n",
       "      <td>2021-01-08</td>\n",
       "      <td>6jbjwl8j</td>\n",
       "      <td>None</td>\n",
       "    </tr>\n",
       "    <tr>\n",
       "      <th>3</th>\n",
       "      <td>Hypoxia-induced amniotic fluid stem cell secre...</td>\n",
       "      <td>Adult cardiomyocyte proliferation: a new insig...</td>\n",
       "      <td>2021-01-08</td>\n",
       "      <td>6jbjwl8j</td>\n",
       "      <td>None</td>\n",
       "    </tr>\n",
       "    <tr>\n",
       "      <th>4</th>\n",
       "      <td>Hypoxia-induced amniotic fluid stem cell secre...</td>\n",
       "      <td>Emergence of the stem cell secretome in regene...</td>\n",
       "      <td>2021-01-08</td>\n",
       "      <td>6jbjwl8j</td>\n",
       "      <td>None</td>\n",
       "    </tr>\n",
       "    <tr>\n",
       "      <th>...</th>\n",
       "      <td>...</td>\n",
       "      <td>...</td>\n",
       "      <td>...</td>\n",
       "      <td>...</td>\n",
       "      <td>...</td>\n",
       "    </tr>\n",
       "    <tr>\n",
       "      <th>478929</th>\n",
       "      <td>The impact of policy mixes on new energy vehic...</td>\n",
       "      <td>Effects of multi policies on electric vehicle ...</td>\n",
       "      <td>2021-02-22</td>\n",
       "      <td>kg1daxuu</td>\n",
       "      <td>None</td>\n",
       "    </tr>\n",
       "    <tr>\n",
       "      <th>478930</th>\n",
       "      <td>An initial report from the French SOT COVID Re...</td>\n",
       "      <td>Early Description of Coronavirus 2019 Disease ...</td>\n",
       "      <td>2020-08-24</td>\n",
       "      <td>f0t6n2j1</td>\n",
       "      <td>0akknq1f</td>\n",
       "    </tr>\n",
       "    <tr>\n",
       "      <th>478931</th>\n",
       "      <td>An initial report from the French SOT COVID Re...</td>\n",
       "      <td>Kidney transplant recipients with SARS Cov2 in...</td>\n",
       "      <td>2020-08-24</td>\n",
       "      <td>f0t6n2j1</td>\n",
       "      <td>None</td>\n",
       "    </tr>\n",
       "    <tr>\n",
       "      <th>478932</th>\n",
       "      <td>An initial report from the French SOT COVID Re...</td>\n",
       "      <td>COVID-19 and Calcineurin Inhibitors: Should Th...</td>\n",
       "      <td>2020-08-24</td>\n",
       "      <td>f0t6n2j1</td>\n",
       "      <td>yeqqp6fr</td>\n",
       "    </tr>\n",
       "    <tr>\n",
       "      <th>478933</th>\n",
       "      <td>An initial report from the French SOT COVID Re...</td>\n",
       "      <td>COVID-19: Consider cytokine storm syndromes an...</td>\n",
       "      <td>2020-08-24</td>\n",
       "      <td>f0t6n2j1</td>\n",
       "      <td>None</td>\n",
       "    </tr>\n",
       "  </tbody>\n",
       "</table>\n",
       "<p>478934 rows × 5 columns</p>\n",
       "</div>"
      ],
      "text/plain": [
       "                                             citing_paper  \\\n",
       "0       Hypoxia-induced amniotic fluid stem cell secre...   \n",
       "1       Hypoxia-induced amniotic fluid stem cell secre...   \n",
       "2       Hypoxia-induced amniotic fluid stem cell secre...   \n",
       "3       Hypoxia-induced amniotic fluid stem cell secre...   \n",
       "4       Hypoxia-induced amniotic fluid stem cell secre...   \n",
       "...                                                   ...   \n",
       "478929  The impact of policy mixes on new energy vehic...   \n",
       "478930  An initial report from the French SOT COVID Re...   \n",
       "478931  An initial report from the French SOT COVID Re...   \n",
       "478932  An initial report from the French SOT COVID Re...   \n",
       "478933  An initial report from the French SOT COVID Re...   \n",
       "\n",
       "                                              cited_paper       time  \\\n",
       "0       Endothelial cell infection and endotheliitis i... 2021-01-08   \n",
       "1       Human mesenchymal stem cells-conditioned mediu... 2021-01-08   \n",
       "2       LRP6 downregulation promotes cardiomyocyte pro... 2021-01-08   \n",
       "3       Adult cardiomyocyte proliferation: a new insig... 2021-01-08   \n",
       "4       Emergence of the stem cell secretome in regene... 2021-01-08   \n",
       "...                                                   ...        ...   \n",
       "478929  Effects of multi policies on electric vehicle ... 2021-02-22   \n",
       "478930  Early Description of Coronavirus 2019 Disease ... 2020-08-24   \n",
       "478931  Kidney transplant recipients with SARS Cov2 in... 2020-08-24   \n",
       "478932  COVID-19 and Calcineurin Inhibitors: Should Th... 2020-08-24   \n",
       "478933  COVID-19: Consider cytokine storm syndromes an... 2020-08-24   \n",
       "\n",
       "       citing_uid cited_uid  \n",
       "0        6jbjwl8j  43gqjlca  \n",
       "1        6jbjwl8j      None  \n",
       "2        6jbjwl8j      None  \n",
       "3        6jbjwl8j      None  \n",
       "4        6jbjwl8j      None  \n",
       "...           ...       ...  \n",
       "478929   kg1daxuu      None  \n",
       "478930   f0t6n2j1  0akknq1f  \n",
       "478931   f0t6n2j1      None  \n",
       "478932   f0t6n2j1  yeqqp6fr  \n",
       "478933   f0t6n2j1      None  \n",
       "\n",
       "[478934 rows x 5 columns]"
      ]
     },
     "execution_count": 21,
     "metadata": {},
     "output_type": "execute_result"
    }
   ],
   "source": [
    "citation_net"
   ]
  },
  {
   "cell_type": "code",
   "execution_count": 22,
   "metadata": {},
   "outputs": [],
   "source": [
    "all_paper = set(citation_net['cited_paper']) | set(citation_net['citing_paper'])"
   ]
  },
  {
   "cell_type": "code",
   "execution_count": 23,
   "metadata": {},
   "outputs": [
    {
     "name": "stdout",
     "output_type": "stream",
     "text": [
      "citing paper and cited paper add up to 286302\n"
     ]
    }
   ],
   "source": [
    "print(f\"citing paper and cited paper add up to {len(all_paper)}\")"
   ]
  },
  {
   "cell_type": "code",
   "execution_count": 24,
   "metadata": {},
   "outputs": [],
   "source": [
    "all_paper_uid = set(citation_net['citing_uid']) | set(citation_net['cited_uid'])"
   ]
  },
  {
   "cell_type": "code",
   "execution_count": 25,
   "metadata": {},
   "outputs": [
    {
     "name": "stdout",
     "output_type": "stream",
     "text": [
      "citing paper and cited paper uid add up to 79484\n"
     ]
    }
   ],
   "source": [
    "print(f\"citing paper and cited paper uid add up to {len(all_paper_uid)}\")"
   ]
  },
  {
   "cell_type": "code",
   "execution_count": 26,
   "metadata": {},
   "outputs": [],
   "source": [
    "# citation_net[['citing_year','citing_month','citing_date']] = citation_net['time'].str.split('-',expand=True)\n",
    "# citation_net.drop(columns=['time'],inplace=True)"
   ]
  },
  {
   "cell_type": "code",
   "execution_count": 27,
   "metadata": {},
   "outputs": [],
   "source": [
    "citation_net.to_csv(f'citation_net_{data_dir}.tsv',sep='\\t',index=False)"
   ]
  },
  {
   "cell_type": "code",
   "execution_count": null,
   "metadata": {},
   "outputs": [],
   "source": []
  }
 ],
 "metadata": {
  "kernelspec": {
   "display_name": "Python 3",
   "language": "python",
   "name": "python3"
  },
  "language_info": {
   "codemirror_mode": {
    "name": "ipython",
    "version": 3
   },
   "file_extension": ".py",
   "mimetype": "text/x-python",
   "name": "python",
   "nbconvert_exporter": "python",
   "pygments_lexer": "ipython3",
   "version": "3.7.7"
  }
 },
 "nbformat": 4,
 "nbformat_minor": 4
}
